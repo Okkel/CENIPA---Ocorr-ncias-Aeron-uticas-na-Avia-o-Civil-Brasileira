{
 "cells": [
  {
   "cell_type": "markdown",
   "id": "ffeb5209",
   "metadata": {},
   "source": [
    "## Definicao do problema"
   ]
  },
  {
   "cell_type": "markdown",
   "id": "408ea4a1",
   "metadata": {},
   "source": [
    "Este notebook objetiva explorar a base dados \"Ocorrências Aeronáuticas na Aviação Civil Brasileira\", disponível em : https://dados.gov.br/dataset/ocorrencias-aeronauticas-da-aviacao-civil-brasileira. Produzindo insights e os processos usados para alcança-los.\n"
   ]
  },
  {
   "cell_type": "markdown",
   "id": "a2debb37",
   "metadata": {},
   "source": [
    "A base de dados contem ocorrencias aeronauticas entre os anos de 2012 a 2021 que ocorreram em solo brasileiro. Segundo a própria descrição da base, esta é organizada em 5 tabelas da forma:\n",
    "- OCORRÊNCIA.csv - Informações sobre as ocorrências.\n",
    "- OCORRÊNCIA_TIPO.csv - Informações sobre o tipo de ocorrência.\n",
    "- AERONAVE.csv - Informações sobre as aeronaves envolvidas nas ocorrências.\n",
    "- FATOR_CONTRIBUINTE.csv - Informações sobre os fatores contribuinte das ocorrências que tiveram investigações finalizadas.\n",
    "- RECOMENDAÇÃO.csv - Informações sobre as recomendações de segurança geradas nas ocorrências.\n",
    "\n",
    "seguindo o modelo disponível em: http://sistema.cenipa.aer.mil.br/cenipa/media/opendata/modelo_dados.png\n"
   ]
  },
  {
   "cell_type": "markdown",
   "id": "eae7fafc",
   "metadata": {},
   "source": [
    "feito por: Arthur Silva"
   ]
  },
  {
   "cell_type": "markdown",
   "id": "bd357311",
   "metadata": {},
   "source": [
    "------------------"
   ]
  },
  {
   "cell_type": "markdown",
   "id": "77b5246d",
   "metadata": {},
   "source": [
    "#### Imports"
   ]
  },
  {
   "cell_type": "code",
   "execution_count": 185,
   "id": "ae146a2b",
   "metadata": {},
   "outputs": [],
   "source": [
    "import numpy as np\n",
    "import pandas as pd\n",
    "import seaborn as sns\n",
    "# from pandas_profiling import ProfileReport\n",
    "import matplotlib.pyplot as plt"
   ]
  },
  {
   "cell_type": "markdown",
   "id": "d917795f",
   "metadata": {},
   "source": [
    "#### Leitura das bases"
   ]
  },
  {
   "cell_type": "code",
   "execution_count": 186,
   "id": "10e749ef",
   "metadata": {},
   "outputs": [
    {
     "name": "stdout",
     "output_type": "stream",
     "text": [
      "Ocorrencias:  (5167, 22)\n",
      "Tipo Ocorrecias:  (5347, 4)\n",
      "Fator Contribuinte:  (3464, 5)\n",
      "Aeronaves:  (5235, 23)\n"
     ]
    }
   ],
   "source": [
    "df_ocorrecias = pd.read_csv(\"dados/raw/ocorrencia.csv\",sep=\";\")\n",
    "df_tipo_ocorrecias = pd.read_csv(\"dados/raw/ocorrencia_tipo.csv\",sep=\";\")\n",
    "df_fator_contribuinte = pd.read_csv(\"dados/raw/fator_contribuinte.csv\",sep=\";\")\n",
    "df_aeronaves = pd.read_csv(\"dados/raw/aeronave.csv\",sep=\";\")\n",
    "\n",
    "print(\"Ocorrencias: \",df_ocorrecias.shape)\n",
    "print(\"Tipo Ocorrecias: \",df_tipo_ocorrecias.shape)\n",
    "print(\"Fator Contribuinte: \",df_fator_contribuinte.shape)\n",
    "print(\"Aeronaves: \",df_aeronaves.shape)\n"
   ]
  },
  {
   "cell_type": "markdown",
   "id": "eb94e896",
   "metadata": {},
   "source": [
    "--------------"
   ]
  },
  {
   "cell_type": "markdown",
   "id": "d13fcf59",
   "metadata": {},
   "source": [
    "## Exploração e definição de hipóteses\n"
   ]
  },
  {
   "cell_type": "markdown",
   "id": "90566cd5",
   "metadata": {},
   "source": [
    "Esta etapa visa tentar entender um pouco de cada bases de dados criar hipoteses e tentar responde-las"
   ]
  },
  {
   "cell_type": "markdown",
   "id": "f9565006",
   "metadata": {},
   "source": [
    "#### df_tipo_ocorrecias"
   ]
  },
  {
   "cell_type": "markdown",
   "id": "2fa9110a",
   "metadata": {},
   "source": [
    "A base de ocorrencia visa definir dentre quais foram as causas das ocorrencias geradas"
   ]
  },
  {
   "cell_type": "code",
   "execution_count": 187,
   "id": "894d7168",
   "metadata": {},
   "outputs": [
    {
     "data": {
      "text/html": [
       "<div>\n",
       "<style scoped>\n",
       "    .dataframe tbody tr th:only-of-type {\n",
       "        vertical-align: middle;\n",
       "    }\n",
       "\n",
       "    .dataframe tbody tr th {\n",
       "        vertical-align: top;\n",
       "    }\n",
       "\n",
       "    .dataframe thead th {\n",
       "        text-align: right;\n",
       "    }\n",
       "</style>\n",
       "<table border=\"1\" class=\"dataframe\">\n",
       "  <thead>\n",
       "    <tr style=\"text-align: right;\">\n",
       "      <th></th>\n",
       "      <th>codigo_ocorrencia1</th>\n",
       "      <th>ocorrencia_tipo</th>\n",
       "      <th>ocorrencia_tipo_categoria</th>\n",
       "      <th>taxonomia_tipo_icao</th>\n",
       "    </tr>\n",
       "  </thead>\n",
       "  <tbody>\n",
       "    <tr>\n",
       "      <th>0</th>\n",
       "      <td>45331</td>\n",
       "      <td>COM PESSOAL EM VOO</td>\n",
       "      <td>OUTROS | COM PESSOAL EM VOO</td>\n",
       "      <td>OTHR</td>\n",
       "    </tr>\n",
       "    <tr>\n",
       "      <th>1</th>\n",
       "      <td>45332</td>\n",
       "      <td>PERDA DE CONTROLE NO SOLO</td>\n",
       "      <td>PERDA DE CONTROLE NO SOLO</td>\n",
       "      <td>LOC-G</td>\n",
       "    </tr>\n",
       "    <tr>\n",
       "      <th>2</th>\n",
       "      <td>45333</td>\n",
       "      <td>FALHA DO MOTOR EM VOO</td>\n",
       "      <td>FALHA OU MAU FUNCIONAMENTO DO MOTOR | FALHA DO...</td>\n",
       "      <td>SCF-PP</td>\n",
       "    </tr>\n",
       "  </tbody>\n",
       "</table>\n",
       "</div>"
      ],
      "text/plain": [
       "   codigo_ocorrencia1            ocorrencia_tipo  \\\n",
       "0               45331         COM PESSOAL EM VOO   \n",
       "1               45332  PERDA DE CONTROLE NO SOLO   \n",
       "2               45333      FALHA DO MOTOR EM VOO   \n",
       "\n",
       "                           ocorrencia_tipo_categoria taxonomia_tipo_icao  \n",
       "0                        OUTROS | COM PESSOAL EM VOO                OTHR  \n",
       "1                          PERDA DE CONTROLE NO SOLO               LOC-G  \n",
       "2  FALHA OU MAU FUNCIONAMENTO DO MOTOR | FALHA DO...              SCF-PP  "
      ]
     },
     "execution_count": 187,
     "metadata": {},
     "output_type": "execute_result"
    }
   ],
   "source": [
    "df_tipo_ocorrecias.head(3)"
   ]
  },
  {
   "cell_type": "code",
   "execution_count": 188,
   "id": "b69682d6",
   "metadata": {},
   "outputs": [
    {
     "name": "stdout",
     "output_type": "stream",
     "text": [
      "80\n",
      "True\n"
     ]
    }
   ],
   "source": [
    "# existe a mesma quantidade de tipos de ocorrencia, desta forma apenas uma destas colunas é necessária.\n",
    "print(df_tipo_ocorrecias.ocorrencia_tipo.nunique())\n",
    "print(df_tipo_ocorrecias.ocorrencia_tipo.nunique() == df_tipo_ocorrecias.ocorrencia_tipo_categoria.nunique())"
   ]
  },
  {
   "cell_type": "code",
   "execution_count": 189,
   "id": "143c118f",
   "metadata": {},
   "outputs": [
    {
     "name": "stdout",
     "output_type": "stream",
     "text": [
      "codigo_ocorrencia1           0\n",
      "ocorrencia_tipo              1\n",
      "ocorrencia_tipo_categoria    1\n",
      "taxonomia_tipo_icao          1\n",
      "dtype: int64\n"
     ]
    },
    {
     "data": {
      "text/html": [
       "<div>\n",
       "<style scoped>\n",
       "    .dataframe tbody tr th:only-of-type {\n",
       "        vertical-align: middle;\n",
       "    }\n",
       "\n",
       "    .dataframe tbody tr th {\n",
       "        vertical-align: top;\n",
       "    }\n",
       "\n",
       "    .dataframe thead th {\n",
       "        text-align: right;\n",
       "    }\n",
       "</style>\n",
       "<table border=\"1\" class=\"dataframe\">\n",
       "  <thead>\n",
       "    <tr style=\"text-align: right;\">\n",
       "      <th></th>\n",
       "      <th>codigo_ocorrencia1</th>\n",
       "      <th>ocorrencia_tipo</th>\n",
       "      <th>ocorrencia_tipo_categoria</th>\n",
       "      <th>taxonomia_tipo_icao</th>\n",
       "    </tr>\n",
       "  </thead>\n",
       "  <tbody>\n",
       "    <tr>\n",
       "      <th>3730</th>\n",
       "      <td>78527</td>\n",
       "      <td>NaN</td>\n",
       "      <td>NaN</td>\n",
       "      <td>NaN</td>\n",
       "    </tr>\n",
       "  </tbody>\n",
       "</table>\n",
       "</div>"
      ],
      "text/plain": [
       "      codigo_ocorrencia1 ocorrencia_tipo ocorrencia_tipo_categoria  \\\n",
       "3730               78527             NaN                       NaN   \n",
       "\n",
       "     taxonomia_tipo_icao  \n",
       "3730                 NaN  "
      ]
     },
     "execution_count": 189,
     "metadata": {},
     "output_type": "execute_result"
    }
   ],
   "source": [
    "# existe apenas uma linha nan\n",
    "print(df_tipo_ocorrecias.isna().sum())\n",
    "df_tipo_ocorrecias[df_tipo_ocorrecias.ocorrencia_tipo.isna()]"
   ]
  },
  {
   "cell_type": "code",
   "execution_count": 190,
   "id": "c4dfa37f",
   "metadata": {},
   "outputs": [],
   "source": [
    "# colunas a serem usadas\n",
    "df_tipo_ocorrecias = df_tipo_ocorrecias[['codigo_ocorrencia1','ocorrencia_tipo']]"
   ]
  },
  {
   "cell_type": "markdown",
   "id": "a5347155",
   "metadata": {},
   "source": [
    "Existem 80 tipos de ocorrencia unicos dentre os 10 principais varios são relacionadas a problemas mecanicos"
   ]
  },
  {
   "cell_type": "code",
   "execution_count": 191,
   "id": "7f0f4957",
   "metadata": {},
   "outputs": [
    {
     "data": {
      "image/png": "[encoded data removed]",
      "text/plain": [
       "<Figure size 432x288 with 1 Axes>"
      ]
     },
     "metadata": {
      "needs_background": "light"
     },
     "output_type": "display_data"
    }
   ],
   "source": [
    "temp = pd.DataFrame(df_tipo_ocorrecias.ocorrencia_tipo.value_counts(sort= True,  ascending = False))\n",
    "plt.title(\"Os 10 tipos de ocorrencia mais comuns\")\n",
    "sns.barplot(y=temp.index[:10], x=temp.ocorrencia_tipo[:10])\n",
    "del(temp)"
   ]
  },
  {
   "cell_type": "markdown",
   "id": "fa7dc574",
   "metadata": {},
   "source": [
    "#### df_fator_contribuinte"
   ]
  },
  {
   "cell_type": "markdown",
   "id": "64a4db9b",
   "metadata": {},
   "source": [
    "Os fatores contribuintes são fatores concomitantes a ocorrencia. Eles não são os causadores, mas estão associados ao evento."
   ]
  },
  {
   "cell_type": "code",
   "execution_count": 192,
   "id": "cc81b21f",
   "metadata": {},
   "outputs": [
    {
     "data": {
      "text/plain": [
       "(3464, 5)"
      ]
     },
     "execution_count": 192,
     "metadata": {},
     "output_type": "execute_result"
    }
   ],
   "source": [
    "df_fator_contribuinte.shape"
   ]
  },
  {
   "cell_type": "code",
   "execution_count": 193,
   "id": "1abb4e93",
   "metadata": {
    "scrolled": true
   },
   "outputs": [
    {
     "data": {
      "text/html": [
       "<div>\n",
       "<style scoped>\n",
       "    .dataframe tbody tr th:only-of-type {\n",
       "        vertical-align: middle;\n",
       "    }\n",
       "\n",
       "    .dataframe tbody tr th {\n",
       "        vertical-align: top;\n",
       "    }\n",
       "\n",
       "    .dataframe thead th {\n",
       "        text-align: right;\n",
       "    }\n",
       "</style>\n",
       "<table border=\"1\" class=\"dataframe\">\n",
       "  <thead>\n",
       "    <tr style=\"text-align: right;\">\n",
       "      <th></th>\n",
       "      <th>codigo_ocorrencia3</th>\n",
       "      <th>fator_nome</th>\n",
       "      <th>fator_aspecto</th>\n",
       "      <th>fator_condicionante</th>\n",
       "      <th>fator_area</th>\n",
       "    </tr>\n",
       "  </thead>\n",
       "  <tbody>\n",
       "    <tr>\n",
       "      <th>0</th>\n",
       "      <td>45331</td>\n",
       "      <td>APLICAÇÃO DE COMANDOS</td>\n",
       "      <td>DESEMPENHO DO SER HUMANO</td>\n",
       "      <td>OPERAÇÃO DA AERONAVE</td>\n",
       "      <td>FATOR OPERACIONAL</td>\n",
       "    </tr>\n",
       "    <tr>\n",
       "      <th>1</th>\n",
       "      <td>45331</td>\n",
       "      <td>ATENÇÃO</td>\n",
       "      <td>ASPECTO PSICOLÓGICO</td>\n",
       "      <td>INDIVIDUAL</td>\n",
       "      <td>FATOR HUMANO</td>\n",
       "    </tr>\n",
       "    <tr>\n",
       "      <th>2</th>\n",
       "      <td>45331</td>\n",
       "      <td>CAPACITAÇÃO E TREINAMENTO</td>\n",
       "      <td>ASPECTO PSICOLÓGICO</td>\n",
       "      <td>ORGANIZACIONAL</td>\n",
       "      <td>FATOR HUMANO</td>\n",
       "    </tr>\n",
       "  </tbody>\n",
       "</table>\n",
       "</div>"
      ],
      "text/plain": [
       "   codigo_ocorrencia3                 fator_nome             fator_aspecto  \\\n",
       "0               45331      APLICAÇÃO DE COMANDOS  DESEMPENHO DO SER HUMANO   \n",
       "1               45331                    ATENÇÃO       ASPECTO PSICOLÓGICO   \n",
       "2               45331  CAPACITAÇÃO E TREINAMENTO       ASPECTO PSICOLÓGICO   \n",
       "\n",
       "    fator_condicionante         fator_area  \n",
       "0  OPERAÇÃO DA AERONAVE  FATOR OPERACIONAL  \n",
       "1            INDIVIDUAL       FATOR HUMANO  \n",
       "2        ORGANIZACIONAL       FATOR HUMANO  "
      ]
     },
     "execution_count": 193,
     "metadata": {},
     "output_type": "execute_result"
    }
   ],
   "source": [
    "df_fator_contribuinte.head(3)"
   ]
  },
  {
   "cell_type": "markdown",
   "id": "9cc8a5d7",
   "metadata": {},
   "source": [
    "É importante observar que a base de Fator Contribuinte é significativamente menor do que as outras. Muito provavelmente nem todos os eventos tiveram fatores contribuintes detectados ou que influenciassem a ocorrencia.\n",
    "\n",
    "A marioria dos fatores  sao operacionais e fatores humanos; em sua maioria relacionados ao desempenho humano(fator aspecto)"
   ]
  },
  {
   "cell_type": "code",
   "execution_count": 194,
   "id": "6d8b0395",
   "metadata": {},
   "outputs": [
    {
     "data": {
      "text/html": [
       "<div>\n",
       "<style scoped>\n",
       "    .dataframe tbody tr th:only-of-type {\n",
       "        vertical-align: middle;\n",
       "    }\n",
       "\n",
       "    .dataframe tbody tr th {\n",
       "        vertical-align: top;\n",
       "    }\n",
       "\n",
       "    .dataframe thead th {\n",
       "        text-align: right;\n",
       "    }\n",
       "</style>\n",
       "<table border=\"1\" class=\"dataframe\">\n",
       "  <thead>\n",
       "    <tr style=\"text-align: right;\">\n",
       "      <th></th>\n",
       "      <th></th>\n",
       "      <th></th>\n",
       "      <th>quantidade</th>\n",
       "    </tr>\n",
       "    <tr>\n",
       "      <th>fator_condicionante</th>\n",
       "      <th>fator_area</th>\n",
       "      <th>fator_aspecto</th>\n",
       "      <th></th>\n",
       "    </tr>\n",
       "  </thead>\n",
       "  <tbody>\n",
       "    <tr>\n",
       "      <th>OPERAÇÃO DA AERONAVE</th>\n",
       "      <th>FATOR OPERACIONAL</th>\n",
       "      <th>DESEMPENHO DO SER HUMANO</th>\n",
       "      <td>1800</td>\n",
       "    </tr>\n",
       "    <tr>\n",
       "      <th>INDIVIDUAL</th>\n",
       "      <th>FATOR HUMANO</th>\n",
       "      <th>ASPECTO PSICOLÓGICO</th>\n",
       "      <td>674</td>\n",
       "    </tr>\n",
       "    <tr>\n",
       "      <th>ORGANIZACIONAL</th>\n",
       "      <th>FATOR HUMANO</th>\n",
       "      <th>ASPECTO PSICOLÓGICO</th>\n",
       "      <td>293</td>\n",
       "    </tr>\n",
       "    <tr>\n",
       "      <th>MANUTENÇÃO DA AERONAVE</th>\n",
       "      <th>FATOR OPERACIONAL</th>\n",
       "      <th>DESEMPENHO DO SER HUMANO</th>\n",
       "      <td>213</td>\n",
       "    </tr>\n",
       "    <tr>\n",
       "      <th>PSICOSSOCIAL</th>\n",
       "      <th>FATOR HUMANO</th>\n",
       "      <th>ASPECTO PSICOLÓGICO</th>\n",
       "      <td>105</td>\n",
       "    </tr>\n",
       "    <tr>\n",
       "      <th rowspan=\"4\" valign=\"top\">***</th>\n",
       "      <th>FATOR OPERACIONAL</th>\n",
       "      <th>ELEMENTOS RELACIONADOS AO AMBIENTE OPERACIONAL</th>\n",
       "      <td>96</td>\n",
       "    </tr>\n",
       "    <tr>\n",
       "      <th>FATOR HUMANO</th>\n",
       "      <th>ASPECTO MÉDICO</th>\n",
       "      <td>69</td>\n",
       "    </tr>\n",
       "    <tr>\n",
       "      <th>FATOR OPERACIONAL</th>\n",
       "      <th>INFRAESTRUTURA AEROPORTUÁRIA</th>\n",
       "      <td>66</td>\n",
       "    </tr>\n",
       "    <tr>\n",
       "      <th>OUTRO</th>\n",
       "      <th>OUTRO</th>\n",
       "      <td>62</td>\n",
       "    </tr>\n",
       "    <tr>\n",
       "      <th>PRESTAÇÃO DE SERVIÇOS DE TRÁFEGO AÉREO</th>\n",
       "      <th>FATOR OPERACIONAL</th>\n",
       "      <th>DESEMPENHO DO SER HUMANO</th>\n",
       "      <td>25</td>\n",
       "    </tr>\n",
       "    <tr>\n",
       "      <th rowspan=\"6\" valign=\"top\">***</th>\n",
       "      <th>***</th>\n",
       "      <th>***</th>\n",
       "      <td>19</td>\n",
       "    </tr>\n",
       "    <tr>\n",
       "      <th>FATOR HUMANO</th>\n",
       "      <th>ERGONOMIA</th>\n",
       "      <td>10</td>\n",
       "    </tr>\n",
       "    <tr>\n",
       "      <th>FATOR MATERIAL</th>\n",
       "      <th>ASPECTO DE PROJETO</th>\n",
       "      <td>10</td>\n",
       "    </tr>\n",
       "    <tr>\n",
       "      <th>FATOR OPERACIONAL</th>\n",
       "      <th>INFRAESTRUTURA DE TRÁFEGO AÉREO</th>\n",
       "      <td>9</td>\n",
       "    </tr>\n",
       "    <tr>\n",
       "      <th rowspan=\"2\" valign=\"top\">FATOR MATERIAL</th>\n",
       "      <th>ASPECTO DE FABRICAÇÃO</th>\n",
       "      <td>8</td>\n",
       "    </tr>\n",
       "    <tr>\n",
       "      <th>ASPECTO DE MANUSEIO DO MATERIAL</th>\n",
       "      <td>5</td>\n",
       "    </tr>\n",
       "  </tbody>\n",
       "</table>\n",
       "</div>"
      ],
      "text/plain": [
       "                                                                                                         quantidade\n",
       "fator_condicionante                    fator_area        fator_aspecto                                             \n",
       "OPERAÇÃO DA AERONAVE                   FATOR OPERACIONAL DESEMPENHO DO SER HUMANO                              1800\n",
       "INDIVIDUAL                             FATOR HUMANO      ASPECTO PSICOLÓGICO                                    674\n",
       "ORGANIZACIONAL                         FATOR HUMANO      ASPECTO PSICOLÓGICO                                    293\n",
       "MANUTENÇÃO DA AERONAVE                 FATOR OPERACIONAL DESEMPENHO DO SER HUMANO                               213\n",
       "PSICOSSOCIAL                           FATOR HUMANO      ASPECTO PSICOLÓGICO                                    105\n",
       "***                                    FATOR OPERACIONAL ELEMENTOS RELACIONADOS AO AMBIENTE OPERACIONAL          96\n",
       "                                       FATOR HUMANO      ASPECTO MÉDICO                                          69\n",
       "                                       FATOR OPERACIONAL INFRAESTRUTURA AEROPORTUÁRIA                            66\n",
       "                                       OUTRO             OUTRO                                                   62\n",
       "PRESTAÇÃO DE SERVIÇOS DE TRÁFEGO AÉREO FATOR OPERACIONAL DESEMPENHO DO SER HUMANO                                25\n",
       "***                                    ***               ***                                                     19\n",
       "                                       FATOR HUMANO      ERGONOMIA                                               10\n",
       "                                       FATOR MATERIAL    ASPECTO DE PROJETO                                      10\n",
       "                                       FATOR OPERACIONAL INFRAESTRUTURA DE TRÁFEGO AÉREO                          9\n",
       "                                       FATOR MATERIAL    ASPECTO DE FABRICAÇÃO                                    8\n",
       "                                                         ASPECTO DE MANUSEIO DO MATERIAL                          5"
      ]
     },
     "execution_count": 194,
     "metadata": {},
     "output_type": "execute_result"
    }
   ],
   "source": [
    "# varios fatores nao tem condicionantes\n",
    "df_fator_contribuinte.groupby(['fator_condicionante','fator_area','fator_aspecto']).size().sort_values(ascending=False).to_frame(name='quantidade')"
   ]
  },
  {
   "cell_type": "markdown",
   "id": "c7b0cd82",
   "metadata": {},
   "source": [
    "Será que falta de experiencia de pilotos bem como fatores de fadiga estao relacionados as ocorrencias?"
   ]
  },
  {
   "cell_type": "markdown",
   "id": "6fb33856",
   "metadata": {},
   "source": [
    "Embora a maioria das ocorrencias seja por problemas mecânicos, aqui é notavel que a vasta maioria dos fatores contribuintes são problemas operacionais estão vinculadas ao desempenho humano"
   ]
  },
  {
   "cell_type": "markdown",
   "id": "dcf7cc57",
   "metadata": {},
   "source": [
    "O fator fadiga, embora seja um aspecto médico não existe em quantidade significativa como contribuidor das ocorrencias. Embora considerando-se aspectos pscicológicos, fatores como : PROCESSO DECISÓRIO,PERCEPÇÃO e ATENÇÃO que lideram as ocorrencias deste subgrupo podem ser associadas a eventos de fadiga.\n",
    "\n",
    "Seria interessante comparar a ocorrencias destes fatores e a duração dos voos mas a base não oferece dados para permitir esta comparação."
   ]
  },
  {
   "cell_type": "code",
   "execution_count": 332,
   "id": "a99921f5",
   "metadata": {},
   "outputs": [
    {
     "data": {
      "text/html": [
       "<div>\n",
       "<style scoped>\n",
       "    .dataframe tbody tr th:only-of-type {\n",
       "        vertical-align: middle;\n",
       "    }\n",
       "\n",
       "    .dataframe tbody tr th {\n",
       "        vertical-align: top;\n",
       "    }\n",
       "\n",
       "    .dataframe thead th {\n",
       "        text-align: right;\n",
       "    }\n",
       "</style>\n",
       "<table border=\"1\" class=\"dataframe\">\n",
       "  <thead>\n",
       "    <tr style=\"text-align: right;\">\n",
       "      <th></th>\n",
       "      <th>quantidade</th>\n",
       "    </tr>\n",
       "  </thead>\n",
       "  <tbody>\n",
       "    <tr>\n",
       "      <th>PROCESSO DECISÓRIO</th>\n",
       "      <td>189</td>\n",
       "    </tr>\n",
       "    <tr>\n",
       "      <th>ATITUDE</th>\n",
       "      <td>168</td>\n",
       "    </tr>\n",
       "    <tr>\n",
       "      <th>PERCEPÇÃO</th>\n",
       "      <td>126</td>\n",
       "    </tr>\n",
       "    <tr>\n",
       "      <th>ATENÇÃO</th>\n",
       "      <td>83</td>\n",
       "    </tr>\n",
       "    <tr>\n",
       "      <th>PROCESSOS ORGANIZACIONAIS</th>\n",
       "      <td>73</td>\n",
       "    </tr>\n",
       "    <tr>\n",
       "      <th>SISTEMAS DE APOIO</th>\n",
       "      <td>63</td>\n",
       "    </tr>\n",
       "    <tr>\n",
       "      <th>CAPACITAÇÃO E TREINAMENTO</th>\n",
       "      <td>62</td>\n",
       "    </tr>\n",
       "    <tr>\n",
       "      <th>CULTURA ORGANIZACIONAL</th>\n",
       "      <td>45</td>\n",
       "    </tr>\n",
       "    <tr>\n",
       "      <th>MEMÓRIA</th>\n",
       "      <td>40</td>\n",
       "    </tr>\n",
       "    <tr>\n",
       "      <th>CULTURA DO GRUPO DE TRABALHO</th>\n",
       "      <td>36</td>\n",
       "    </tr>\n",
       "    <tr>\n",
       "      <th>MOTIVAÇÃO</th>\n",
       "      <td>36</td>\n",
       "    </tr>\n",
       "    <tr>\n",
       "      <th>ORGANIZAÇÃO DO TRABALHO</th>\n",
       "      <td>32</td>\n",
       "    </tr>\n",
       "    <tr>\n",
       "      <th>COMUNICAÇÃO</th>\n",
       "      <td>31</td>\n",
       "    </tr>\n",
       "    <tr>\n",
       "      <th>ESTADO EMOCIONAL</th>\n",
       "      <td>24</td>\n",
       "    </tr>\n",
       "    <tr>\n",
       "      <th>DINÂMICA DE EQUIPE</th>\n",
       "      <td>17</td>\n",
       "    </tr>\n",
       "    <tr>\n",
       "      <th>CARACTERÍSTICAS DA TAREFA</th>\n",
       "      <td>13</td>\n",
       "    </tr>\n",
       "    <tr>\n",
       "      <th>RELAÇÕES INTERPESSOAIS</th>\n",
       "      <td>13</td>\n",
       "    </tr>\n",
       "    <tr>\n",
       "      <th>INDÍCIOS DE ESTRESSE</th>\n",
       "      <td>8</td>\n",
       "    </tr>\n",
       "    <tr>\n",
       "      <th>CLIMA ORGANIZACIONAL</th>\n",
       "      <td>5</td>\n",
       "    </tr>\n",
       "    <tr>\n",
       "      <th>INFLUÊNCIAS EXTERNAS</th>\n",
       "      <td>5</td>\n",
       "    </tr>\n",
       "  </tbody>\n",
       "</table>\n",
       "</div>"
      ],
      "text/plain": [
       "                              quantidade\n",
       "PROCESSO DECISÓRIO                   189\n",
       "ATITUDE                              168\n",
       "PERCEPÇÃO                            126\n",
       "ATENÇÃO                               83\n",
       "PROCESSOS ORGANIZACIONAIS             73\n",
       "SISTEMAS DE APOIO                     63\n",
       "CAPACITAÇÃO E TREINAMENTO             62\n",
       "CULTURA ORGANIZACIONAL                45\n",
       "MEMÓRIA                               40\n",
       "CULTURA DO GRUPO DE TRABALHO          36\n",
       "MOTIVAÇÃO                             36\n",
       "ORGANIZAÇÃO DO TRABALHO               32\n",
       "COMUNICAÇÃO                           31\n",
       "ESTADO EMOCIONAL                      24\n",
       "DINÂMICA DE EQUIPE                    17\n",
       "CARACTERÍSTICAS DA TAREFA             13\n",
       "RELAÇÕES INTERPESSOAIS                13\n",
       "INDÍCIOS DE ESTRESSE                   8\n",
       "CLIMA ORGANIZACIONAL                   5\n",
       "INFLUÊNCIAS EXTERNAS                   5"
      ]
     },
     "execution_count": 332,
     "metadata": {},
     "output_type": "execute_result"
    }
   ],
   "source": [
    "df_fator_contribuinte[df_fator_contribuinte.fator_aspecto =='ASPECTO PSICOLÓGICO'].fator_nome.value_counts().to_frame(name='quantidade').head(20)"
   ]
  },
  {
   "cell_type": "code",
   "execution_count": 196,
   "id": "d276ce55",
   "metadata": {},
   "outputs": [
    {
     "data": {
      "text/html": [
       "<div>\n",
       "<style scoped>\n",
       "    .dataframe tbody tr th:only-of-type {\n",
       "        vertical-align: middle;\n",
       "    }\n",
       "\n",
       "    .dataframe tbody tr th {\n",
       "        vertical-align: top;\n",
       "    }\n",
       "\n",
       "    .dataframe thead th {\n",
       "        text-align: right;\n",
       "    }\n",
       "</style>\n",
       "<table border=\"1\" class=\"dataframe\">\n",
       "  <thead>\n",
       "    <tr style=\"text-align: right;\">\n",
       "      <th></th>\n",
       "      <th>codigo_ocorrencia3</th>\n",
       "      <th>fator_nome</th>\n",
       "      <th>fator_aspecto</th>\n",
       "      <th>fator_condicionante</th>\n",
       "      <th>fator_area</th>\n",
       "    </tr>\n",
       "  </thead>\n",
       "  <tbody>\n",
       "    <tr>\n",
       "      <th>457</th>\n",
       "      <td>46583</td>\n",
       "      <td>FADIGA</td>\n",
       "      <td>ASPECTO MÉDICO</td>\n",
       "      <td>***</td>\n",
       "      <td>FATOR HUMANO</td>\n",
       "    </tr>\n",
       "    <tr>\n",
       "      <th>506</th>\n",
       "      <td>46751</td>\n",
       "      <td>FADIGA</td>\n",
       "      <td>ASPECTO MÉDICO</td>\n",
       "      <td>***</td>\n",
       "      <td>FATOR HUMANO</td>\n",
       "    </tr>\n",
       "    <tr>\n",
       "      <th>553</th>\n",
       "      <td>46916</td>\n",
       "      <td>FADIGA</td>\n",
       "      <td>ASPECTO MÉDICO</td>\n",
       "      <td>***</td>\n",
       "      <td>FATOR HUMANO</td>\n",
       "    </tr>\n",
       "    <tr>\n",
       "      <th>1231</th>\n",
       "      <td>51416</td>\n",
       "      <td>FADIGA</td>\n",
       "      <td>ASPECTO MÉDICO</td>\n",
       "      <td>***</td>\n",
       "      <td>FATOR HUMANO</td>\n",
       "    </tr>\n",
       "    <tr>\n",
       "      <th>1364</th>\n",
       "      <td>52265</td>\n",
       "      <td>FADIGA</td>\n",
       "      <td>ASPECTO MÉDICO</td>\n",
       "      <td>***</td>\n",
       "      <td>FATOR HUMANO</td>\n",
       "    </tr>\n",
       "    <tr>\n",
       "      <th>1986</th>\n",
       "      <td>53576</td>\n",
       "      <td>FADIGA</td>\n",
       "      <td>ASPECTO MÉDICO</td>\n",
       "      <td>***</td>\n",
       "      <td>FATOR HUMANO</td>\n",
       "    </tr>\n",
       "    <tr>\n",
       "      <th>2282</th>\n",
       "      <td>66078</td>\n",
       "      <td>FADIGA</td>\n",
       "      <td>ASPECTO MÉDICO</td>\n",
       "      <td>***</td>\n",
       "      <td>FATOR HUMANO</td>\n",
       "    </tr>\n",
       "    <tr>\n",
       "      <th>2526</th>\n",
       "      <td>77276</td>\n",
       "      <td>FADIGA</td>\n",
       "      <td>ASPECTO MÉDICO</td>\n",
       "      <td>***</td>\n",
       "      <td>FATOR HUMANO</td>\n",
       "    </tr>\n",
       "    <tr>\n",
       "      <th>2710</th>\n",
       "      <td>77695</td>\n",
       "      <td>FADIGA</td>\n",
       "      <td>ASPECTO MÉDICO</td>\n",
       "      <td>***</td>\n",
       "      <td>FATOR HUMANO</td>\n",
       "    </tr>\n",
       "    <tr>\n",
       "      <th>2793</th>\n",
       "      <td>77789</td>\n",
       "      <td>FADIGA</td>\n",
       "      <td>ASPECTO MÉDICO</td>\n",
       "      <td>***</td>\n",
       "      <td>FATOR HUMANO</td>\n",
       "    </tr>\n",
       "    <tr>\n",
       "      <th>3021</th>\n",
       "      <td>78353</td>\n",
       "      <td>FADIGA</td>\n",
       "      <td>ASPECTO MÉDICO</td>\n",
       "      <td>***</td>\n",
       "      <td>FATOR HUMANO</td>\n",
       "    </tr>\n",
       "  </tbody>\n",
       "</table>\n",
       "</div>"
      ],
      "text/plain": [
       "      codigo_ocorrencia3 fator_nome   fator_aspecto fator_condicionante  \\\n",
       "457                46583     FADIGA  ASPECTO MÉDICO                 ***   \n",
       "506                46751     FADIGA  ASPECTO MÉDICO                 ***   \n",
       "553                46916     FADIGA  ASPECTO MÉDICO                 ***   \n",
       "1231               51416     FADIGA  ASPECTO MÉDICO                 ***   \n",
       "1364               52265     FADIGA  ASPECTO MÉDICO                 ***   \n",
       "1986               53576     FADIGA  ASPECTO MÉDICO                 ***   \n",
       "2282               66078     FADIGA  ASPECTO MÉDICO                 ***   \n",
       "2526               77276     FADIGA  ASPECTO MÉDICO                 ***   \n",
       "2710               77695     FADIGA  ASPECTO MÉDICO                 ***   \n",
       "2793               77789     FADIGA  ASPECTO MÉDICO                 ***   \n",
       "3021               78353     FADIGA  ASPECTO MÉDICO                 ***   \n",
       "\n",
       "        fator_area  \n",
       "457   FATOR HUMANO  \n",
       "506   FATOR HUMANO  \n",
       "553   FATOR HUMANO  \n",
       "1231  FATOR HUMANO  \n",
       "1364  FATOR HUMANO  \n",
       "1986  FATOR HUMANO  \n",
       "2282  FATOR HUMANO  \n",
       "2526  FATOR HUMANO  \n",
       "2710  FATOR HUMANO  \n",
       "2793  FATOR HUMANO  \n",
       "3021  FATOR HUMANO  "
      ]
     },
     "execution_count": 196,
     "metadata": {},
     "output_type": "execute_result"
    }
   ],
   "source": [
    "df_fator_contribuinte[df_fator_contribuinte.fator_nome =='FADIGA']"
   ]
  },
  {
   "cell_type": "markdown",
   "id": "fc84b66c",
   "metadata": {},
   "source": [
    "Já a falta de experiencia dos pilotos é o 8º fator mais contribuinte para ocrrencias. Se considerarmos que a capacidade de julgamento é associada a experiência, este número é ainda maior."
   ]
  },
  {
   "cell_type": "code",
   "execution_count": 197,
   "id": "d1b77bd5",
   "metadata": {},
   "outputs": [
    {
     "data": {
      "text/html": [
       "<div>\n",
       "<style scoped>\n",
       "    .dataframe tbody tr th:only-of-type {\n",
       "        vertical-align: middle;\n",
       "    }\n",
       "\n",
       "    .dataframe tbody tr th {\n",
       "        vertical-align: top;\n",
       "    }\n",
       "\n",
       "    .dataframe thead th {\n",
       "        text-align: right;\n",
       "    }\n",
       "</style>\n",
       "<table border=\"1\" class=\"dataframe\">\n",
       "  <thead>\n",
       "    <tr style=\"text-align: right;\">\n",
       "      <th></th>\n",
       "      <th></th>\n",
       "      <th></th>\n",
       "      <th>quantidade</th>\n",
       "    </tr>\n",
       "    <tr>\n",
       "      <th>fator_nome</th>\n",
       "      <th>fator_area</th>\n",
       "      <th>fator_aspecto</th>\n",
       "      <th></th>\n",
       "    </tr>\n",
       "  </thead>\n",
       "  <tbody>\n",
       "    <tr>\n",
       "      <th>JULGAMENTO DE PILOTAGEM</th>\n",
       "      <th>FATOR OPERACIONAL</th>\n",
       "      <th>DESEMPENHO DO SER HUMANO</th>\n",
       "      <td>472</td>\n",
       "    </tr>\n",
       "    <tr>\n",
       "      <th>APLICAÇÃO DE COMANDOS</th>\n",
       "      <th>FATOR OPERACIONAL</th>\n",
       "      <th>DESEMPENHO DO SER HUMANO</th>\n",
       "      <td>327</td>\n",
       "    </tr>\n",
       "    <tr>\n",
       "      <th>PLANEJAMENTO DE VOO</th>\n",
       "      <th>FATOR OPERACIONAL</th>\n",
       "      <th>DESEMPENHO DO SER HUMANO</th>\n",
       "      <td>256</td>\n",
       "    </tr>\n",
       "    <tr>\n",
       "      <th>SUPERVISÃO GERENCIAL</th>\n",
       "      <th>FATOR OPERACIONAL</th>\n",
       "      <th>DESEMPENHO DO SER HUMANO</th>\n",
       "      <td>234</td>\n",
       "    </tr>\n",
       "    <tr>\n",
       "      <th>MANUTENÇÃO DA AERONAVE</th>\n",
       "      <th>FATOR OPERACIONAL</th>\n",
       "      <th>DESEMPENHO DO SER HUMANO</th>\n",
       "      <td>213</td>\n",
       "    </tr>\n",
       "    <tr>\n",
       "      <th>PROCESSO DECISÓRIO</th>\n",
       "      <th>FATOR HUMANO</th>\n",
       "      <th>ASPECTO PSICOLÓGICO</th>\n",
       "      <td>189</td>\n",
       "    </tr>\n",
       "    <tr>\n",
       "      <th>ATITUDE</th>\n",
       "      <th>FATOR HUMANO</th>\n",
       "      <th>ASPECTO PSICOLÓGICO</th>\n",
       "      <td>168</td>\n",
       "    </tr>\n",
       "    <tr>\n",
       "      <th>POUCA EXPERIÊNCIA DO PILOTO</th>\n",
       "      <th>FATOR OPERACIONAL</th>\n",
       "      <th>DESEMPENHO DO SER HUMANO</th>\n",
       "      <td>148</td>\n",
       "    </tr>\n",
       "    <tr>\n",
       "      <th>PERCEPÇÃO</th>\n",
       "      <th>FATOR HUMANO</th>\n",
       "      <th>ASPECTO PSICOLÓGICO</th>\n",
       "      <td>126</td>\n",
       "    </tr>\n",
       "    <tr>\n",
       "      <th>INDISCIPLINA DE VOO</th>\n",
       "      <th>FATOR OPERACIONAL</th>\n",
       "      <th>DESEMPENHO DO SER HUMANO</th>\n",
       "      <td>113</td>\n",
       "    </tr>\n",
       "    <tr>\n",
       "      <th>CONDIÇÕES METEOROLÓGICAS ADVERSAS</th>\n",
       "      <th>FATOR OPERACIONAL</th>\n",
       "      <th>ELEMENTOS RELACIONADOS AO AMBIENTE OPERACIONAL</th>\n",
       "      <td>91</td>\n",
       "    </tr>\n",
       "    <tr>\n",
       "      <th>ATENÇÃO</th>\n",
       "      <th>FATOR HUMANO</th>\n",
       "      <th>ASPECTO PSICOLÓGICO</th>\n",
       "      <td>83</td>\n",
       "    </tr>\n",
       "    <tr>\n",
       "      <th>PROCESSOS ORGANIZACIONAIS</th>\n",
       "      <th>FATOR HUMANO</th>\n",
       "      <th>ASPECTO PSICOLÓGICO</th>\n",
       "      <td>73</td>\n",
       "    </tr>\n",
       "    <tr>\n",
       "      <th>INSTRUÇÃO</th>\n",
       "      <th>FATOR OPERACIONAL</th>\n",
       "      <th>DESEMPENHO DO SER HUMANO</th>\n",
       "      <td>71</td>\n",
       "    </tr>\n",
       "    <tr>\n",
       "      <th>COORDENAÇÃO DE CABINE</th>\n",
       "      <th>FATOR OPERACIONAL</th>\n",
       "      <th>DESEMPENHO DO SER HUMANO</th>\n",
       "      <td>67</td>\n",
       "    </tr>\n",
       "    <tr>\n",
       "      <th>INFRAESTRUTURA AEROPORTUÁRIA</th>\n",
       "      <th>FATOR OPERACIONAL</th>\n",
       "      <th>INFRAESTRUTURA AEROPORTUÁRIA</th>\n",
       "      <td>66</td>\n",
       "    </tr>\n",
       "    <tr>\n",
       "      <th>SISTEMAS DE APOIO</th>\n",
       "      <th>FATOR HUMANO</th>\n",
       "      <th>ASPECTO PSICOLÓGICO</th>\n",
       "      <td>63</td>\n",
       "    </tr>\n",
       "    <tr>\n",
       "      <th>OUTRO FATOR</th>\n",
       "      <th>OUTRO</th>\n",
       "      <th>OUTRO</th>\n",
       "      <td>62</td>\n",
       "    </tr>\n",
       "    <tr>\n",
       "      <th>CAPACITAÇÃO E TREINAMENTO</th>\n",
       "      <th>FATOR HUMANO</th>\n",
       "      <th>ASPECTO PSICOLÓGICO</th>\n",
       "      <td>62</td>\n",
       "    </tr>\n",
       "    <tr>\n",
       "      <th>ESQUECIMENTO DO PILOTO</th>\n",
       "      <th>FATOR OPERACIONAL</th>\n",
       "      <th>DESEMPENHO DO SER HUMANO</th>\n",
       "      <td>55</td>\n",
       "    </tr>\n",
       "  </tbody>\n",
       "</table>\n",
       "</div>"
      ],
      "text/plain": [
       "                                                                                                    quantidade\n",
       "fator_nome                        fator_area        fator_aspecto                                             \n",
       "JULGAMENTO DE PILOTAGEM           FATOR OPERACIONAL DESEMPENHO DO SER HUMANO                               472\n",
       "APLICAÇÃO DE COMANDOS             FATOR OPERACIONAL DESEMPENHO DO SER HUMANO                               327\n",
       "PLANEJAMENTO DE VOO               FATOR OPERACIONAL DESEMPENHO DO SER HUMANO                               256\n",
       "SUPERVISÃO GERENCIAL              FATOR OPERACIONAL DESEMPENHO DO SER HUMANO                               234\n",
       "MANUTENÇÃO DA AERONAVE            FATOR OPERACIONAL DESEMPENHO DO SER HUMANO                               213\n",
       "PROCESSO DECISÓRIO                FATOR HUMANO      ASPECTO PSICOLÓGICO                                    189\n",
       "ATITUDE                           FATOR HUMANO      ASPECTO PSICOLÓGICO                                    168\n",
       "POUCA EXPERIÊNCIA DO PILOTO       FATOR OPERACIONAL DESEMPENHO DO SER HUMANO                               148\n",
       "PERCEPÇÃO                         FATOR HUMANO      ASPECTO PSICOLÓGICO                                    126\n",
       "INDISCIPLINA DE VOO               FATOR OPERACIONAL DESEMPENHO DO SER HUMANO                               113\n",
       "CONDIÇÕES METEOROLÓGICAS ADVERSAS FATOR OPERACIONAL ELEMENTOS RELACIONADOS AO AMBIENTE OPERACIONAL          91\n",
       "ATENÇÃO                           FATOR HUMANO      ASPECTO PSICOLÓGICO                                     83\n",
       "PROCESSOS ORGANIZACIONAIS         FATOR HUMANO      ASPECTO PSICOLÓGICO                                     73\n",
       "INSTRUÇÃO                         FATOR OPERACIONAL DESEMPENHO DO SER HUMANO                                71\n",
       "COORDENAÇÃO DE CABINE             FATOR OPERACIONAL DESEMPENHO DO SER HUMANO                                67\n",
       "INFRAESTRUTURA AEROPORTUÁRIA      FATOR OPERACIONAL INFRAESTRUTURA AEROPORTUÁRIA                            66\n",
       "SISTEMAS DE APOIO                 FATOR HUMANO      ASPECTO PSICOLÓGICO                                     63\n",
       "OUTRO FATOR                       OUTRO             OUTRO                                                   62\n",
       "CAPACITAÇÃO E TREINAMENTO         FATOR HUMANO      ASPECTO PSICOLÓGICO                                     62\n",
       "ESQUECIMENTO DO PILOTO            FATOR OPERACIONAL DESEMPENHO DO SER HUMANO                                55"
      ]
     },
     "execution_count": 197,
     "metadata": {},
     "output_type": "execute_result"
    }
   ],
   "source": [
    "df_fator_contribuinte.groupby([\"fator_nome\",'fator_area','fator_aspecto']).size().sort_values(ascending=False).to_frame(name='quantidade')[:20]"
   ]
  },
  {
   "cell_type": "markdown",
   "id": "e6c12b7e",
   "metadata": {},
   "source": [
    " 58% dos eventos contribuintes estão relacionados a desempenho humano, especialmente:\n",
    "    - JULGAMENTO DE PILOTAGEM, APLICAÇÃO DE COMANDOS, PLANEJAMENTO DE VOO, SUPERVISÃO GERENCIAL    "
   ]
  },
  {
   "cell_type": "code",
   "execution_count": 198,
   "id": "79b1a173",
   "metadata": {},
   "outputs": [
    {
     "data": {
      "text/html": [
       "<div>\n",
       "<style scoped>\n",
       "    .dataframe tbody tr th:only-of-type {\n",
       "        vertical-align: middle;\n",
       "    }\n",
       "\n",
       "    .dataframe tbody tr th {\n",
       "        vertical-align: top;\n",
       "    }\n",
       "\n",
       "    .dataframe thead th {\n",
       "        text-align: right;\n",
       "    }\n",
       "</style>\n",
       "<table border=\"1\" class=\"dataframe\">\n",
       "  <thead>\n",
       "    <tr style=\"text-align: right;\">\n",
       "      <th></th>\n",
       "      <th>quantidade</th>\n",
       "    </tr>\n",
       "    <tr>\n",
       "      <th>fator_aspecto</th>\n",
       "      <th></th>\n",
       "    </tr>\n",
       "  </thead>\n",
       "  <tbody>\n",
       "    <tr>\n",
       "      <th>DESEMPENHO DO SER HUMANO</th>\n",
       "      <td>2038</td>\n",
       "    </tr>\n",
       "    <tr>\n",
       "      <th>ASPECTO PSICOLÓGICO</th>\n",
       "      <td>1072</td>\n",
       "    </tr>\n",
       "    <tr>\n",
       "      <th>ELEMENTOS RELACIONADOS AO AMBIENTE OPERACIONAL</th>\n",
       "      <td>96</td>\n",
       "    </tr>\n",
       "    <tr>\n",
       "      <th>ASPECTO MÉDICO</th>\n",
       "      <td>69</td>\n",
       "    </tr>\n",
       "    <tr>\n",
       "      <th>INFRAESTRUTURA AEROPORTUÁRIA</th>\n",
       "      <td>66</td>\n",
       "    </tr>\n",
       "    <tr>\n",
       "      <th>OUTRO</th>\n",
       "      <td>62</td>\n",
       "    </tr>\n",
       "    <tr>\n",
       "      <th>***</th>\n",
       "      <td>19</td>\n",
       "    </tr>\n",
       "    <tr>\n",
       "      <th>ASPECTO DE PROJETO</th>\n",
       "      <td>10</td>\n",
       "    </tr>\n",
       "    <tr>\n",
       "      <th>ERGONOMIA</th>\n",
       "      <td>10</td>\n",
       "    </tr>\n",
       "    <tr>\n",
       "      <th>INFRAESTRUTURA DE TRÁFEGO AÉREO</th>\n",
       "      <td>9</td>\n",
       "    </tr>\n",
       "    <tr>\n",
       "      <th>ASPECTO DE FABRICAÇÃO</th>\n",
       "      <td>8</td>\n",
       "    </tr>\n",
       "    <tr>\n",
       "      <th>ASPECTO DE MANUSEIO DO MATERIAL</th>\n",
       "      <td>5</td>\n",
       "    </tr>\n",
       "  </tbody>\n",
       "</table>\n",
       "</div>"
      ],
      "text/plain": [
       "                                                quantidade\n",
       "fator_aspecto                                             \n",
       "DESEMPENHO DO SER HUMANO                              2038\n",
       "ASPECTO PSICOLÓGICO                                   1072\n",
       "ELEMENTOS RELACIONADOS AO AMBIENTE OPERACIONAL          96\n",
       "ASPECTO MÉDICO                                          69\n",
       "INFRAESTRUTURA AEROPORTUÁRIA                            66\n",
       "OUTRO                                                   62\n",
       "***                                                     19\n",
       "ASPECTO DE PROJETO                                      10\n",
       "ERGONOMIA                                               10\n",
       "INFRAESTRUTURA DE TRÁFEGO AÉREO                          9\n",
       "ASPECTO DE FABRICAÇÃO                                    8\n",
       "ASPECTO DE MANUSEIO DO MATERIAL                          5"
      ]
     },
     "execution_count": 198,
     "metadata": {},
     "output_type": "execute_result"
    }
   ],
   "source": [
    "df_fator_contribuinte.groupby([\"fator_aspecto\"]).size().sort_values(ascending=False).to_frame(name='quantidade')[:20]"
   ]
  },
  {
   "cell_type": "code",
   "execution_count": 199,
   "id": "a222a11c",
   "metadata": {},
   "outputs": [
    {
     "data": {
      "text/plain": [
       "0.5883371824480369"
      ]
     },
     "execution_count": 199,
     "metadata": {},
     "output_type": "execute_result"
    }
   ],
   "source": [
    "# percentual de aspectos associados a desmplenho humano\n",
    "2038 / df_fator_contribuinte.shape[0]"
   ]
  },
  {
   "cell_type": "markdown",
   "id": "7f3f16c5",
   "metadata": {},
   "source": [
    "Sera que existem fatores contribuintes nao associados a falhas mecanicas?"
   ]
  },
  {
   "cell_type": "markdown",
   "id": "3675aa9f",
   "metadata": {},
   "source": [
    "#### df_aeronaves"
   ]
  },
  {
   "cell_type": "markdown",
   "id": "7d8a2b94",
   "metadata": {},
   "source": [
    "A base de aeronaves, descreve varias características da(s) aeronave(s) envolvida(s) na ocorrencia. \n",
    "Permitindo um entendimento melhor sobre idade das aeronaves, marca, tipo de motor entre outros"
   ]
  },
  {
   "cell_type": "markdown",
   "id": "e09fcaa0",
   "metadata": {},
   "source": [
    "A marioria dos eventos sao de avioes (como esperado, pois existem mais avioes)\n",
    "\n",
    "existe ainda uma quantidade relevante de eventos em que não há informacao de tipo de veiculo"
   ]
  },
  {
   "cell_type": "code",
   "execution_count": 200,
   "id": "1f4dad13",
   "metadata": {},
   "outputs": [
    {
     "data": {
      "text/html": [
       "<div>\n",
       "<style scoped>\n",
       "    .dataframe tbody tr th:only-of-type {\n",
       "        vertical-align: middle;\n",
       "    }\n",
       "\n",
       "    .dataframe tbody tr th {\n",
       "        vertical-align: top;\n",
       "    }\n",
       "\n",
       "    .dataframe thead th {\n",
       "        text-align: right;\n",
       "    }\n",
       "</style>\n",
       "<table border=\"1\" class=\"dataframe\">\n",
       "  <thead>\n",
       "    <tr style=\"text-align: right;\">\n",
       "      <th></th>\n",
       "      <th>quantidade</th>\n",
       "    </tr>\n",
       "  </thead>\n",
       "  <tbody>\n",
       "    <tr>\n",
       "      <th>AVIÃO</th>\n",
       "      <td>4188</td>\n",
       "    </tr>\n",
       "    <tr>\n",
       "      <th>HELICÓPTERO</th>\n",
       "      <td>550</td>\n",
       "    </tr>\n",
       "    <tr>\n",
       "      <th>ULTRALEVE</th>\n",
       "      <td>304</td>\n",
       "    </tr>\n",
       "    <tr>\n",
       "      <th>***</th>\n",
       "      <td>155</td>\n",
       "    </tr>\n",
       "    <tr>\n",
       "      <th>PLANADOR</th>\n",
       "      <td>17</td>\n",
       "    </tr>\n",
       "    <tr>\n",
       "      <th>ANFÍBIO</th>\n",
       "      <td>12</td>\n",
       "    </tr>\n",
       "    <tr>\n",
       "      <th>TRIKE</th>\n",
       "      <td>5</td>\n",
       "    </tr>\n",
       "    <tr>\n",
       "      <th>DIRIGÍVEL</th>\n",
       "      <td>2</td>\n",
       "    </tr>\n",
       "    <tr>\n",
       "      <th>BALÃO</th>\n",
       "      <td>1</td>\n",
       "    </tr>\n",
       "    <tr>\n",
       "      <th>HIDROAVIÃO</th>\n",
       "      <td>1</td>\n",
       "    </tr>\n",
       "  </tbody>\n",
       "</table>\n",
       "</div>"
      ],
      "text/plain": [
       "             quantidade\n",
       "AVIÃO              4188\n",
       "HELICÓPTERO         550\n",
       "ULTRALEVE           304\n",
       "***                 155\n",
       "PLANADOR             17\n",
       "ANFÍBIO              12\n",
       "TRIKE                 5\n",
       "DIRIGÍVEL             2\n",
       "BALÃO                 1\n",
       "HIDROAVIÃO            1"
      ]
     },
     "execution_count": 200,
     "metadata": {},
     "output_type": "execute_result"
    }
   ],
   "source": [
    "df_aeronaves['aeronave_tipo_veiculo'].value_counts().to_frame(name='quantidade')"
   ]
  },
  {
   "cell_type": "markdown",
   "id": "3d887dfc",
   "metadata": {},
   "source": [
    "Exceto pela classe majoritaria(aviao) todos os veiculos tem em sua maioria menos de 20 anos"
   ]
  },
  {
   "cell_type": "markdown",
   "id": "38543dd0",
   "metadata": {},
   "source": [
    "Veiculos novos em geral, teoricamente, demoram mais para ter falhas mecanicas, será que para veiculos de ate 20 anos é mais comum falhas homanas?"
   ]
  },
  {
   "cell_type": "code",
   "execution_count": 201,
   "id": "60a68196",
   "metadata": {},
   "outputs": [],
   "source": [
    "# calculando idade das aeronaves\n",
    "df_aeronaves['idade_aeronave'] = 2021 - df_aeronaves.aeronave_ano_fabricacao"
   ]
  },
  {
   "cell_type": "code",
   "execution_count": 202,
   "id": "ef7081f6",
   "metadata": {},
   "outputs": [
    {
     "data": {
      "text/plain": [
       "<AxesSubplot:title={'center':'Idade aeronaves'}, xlabel='aeronave_tipo_veiculo', ylabel='idade_aeronave'>"
      ]
     },
     "execution_count": 202,
     "metadata": {},
     "output_type": "execute_result"
    },
    {
     "data": {
      "image/png": "[encoded data removed]",
      "text/plain": [
       "<Figure size 1080x360 with 1 Axes>"
      ]
     },
     "metadata": {
      "needs_background": "light"
     },
     "output_type": "display_data"
    }
   ],
   "source": [
    "plt.figure(figsize=(15, 5))\n",
    "plt.title(\"Idade aeronaves\")\n",
    "sns.boxplot(data = df_aeronaves[df_aeronaves.aeronave_ano_fabricacao.between(1900, 2023)],\n",
    "            y = \"idade_aeronave\", x= 'aeronave_tipo_veiculo')"
   ]
  },
  {
   "cell_type": "markdown",
   "id": "c6060df7",
   "metadata": {},
   "source": [
    "Agrupando os eventos de origem e destino é possivel notar que a grande maioria dos eventos acontecem fora de Aerodromos. \n",
    "Além disso quando em Aerodromos, grande parte das ocorrencias nao acontecem em viagens entre aerodromos."
   ]
  },
  {
   "cell_type": "code",
   "execution_count": 203,
   "id": "d52b5c03",
   "metadata": {},
   "outputs": [
    {
     "data": {
      "text/html": [
       "<div>\n",
       "<style scoped>\n",
       "    .dataframe tbody tr th:only-of-type {\n",
       "        vertical-align: middle;\n",
       "    }\n",
       "\n",
       "    .dataframe tbody tr th {\n",
       "        vertical-align: top;\n",
       "    }\n",
       "\n",
       "    .dataframe thead th {\n",
       "        text-align: right;\n",
       "    }\n",
       "</style>\n",
       "<table border=\"1\" class=\"dataframe\">\n",
       "  <thead>\n",
       "    <tr style=\"text-align: right;\">\n",
       "      <th></th>\n",
       "      <th>aeronave_voo_origem</th>\n",
       "      <th>aeronave_voo_destino</th>\n",
       "      <th>0</th>\n",
       "    </tr>\n",
       "  </thead>\n",
       "  <tbody>\n",
       "    <tr>\n",
       "      <th>947</th>\n",
       "      <td>FORA DE AERODROMO</td>\n",
       "      <td>FORA DE AERODROMO</td>\n",
       "      <td>1792</td>\n",
       "    </tr>\n",
       "    <tr>\n",
       "      <th>0</th>\n",
       "      <td>***</td>\n",
       "      <td>***</td>\n",
       "      <td>135</td>\n",
       "    </tr>\n",
       "    <tr>\n",
       "      <th>397</th>\n",
       "      <td>CAMPO DE MARTE</td>\n",
       "      <td>CAMPO DE MARTE</td>\n",
       "      <td>53</td>\n",
       "    </tr>\n",
       "    <tr>\n",
       "      <th>107</th>\n",
       "      <td>AEROPORTO ESTADUAL DE JUNDIAÍ</td>\n",
       "      <td>AEROPORTO ESTADUAL DE JUNDIAÍ</td>\n",
       "      <td>34</td>\n",
       "    </tr>\n",
       "    <tr>\n",
       "      <th>744</th>\n",
       "      <td>ESTADUAL ARTHUR SIQUEIRA</td>\n",
       "      <td>ESTADUAL ARTHUR SIQUEIRA</td>\n",
       "      <td>30</td>\n",
       "    </tr>\n",
       "    <tr>\n",
       "      <th>138</th>\n",
       "      <td>AERÓDROMO NACIONAL DE AVIAÇÃO</td>\n",
       "      <td>AERÓDROMO NACIONAL DE AVIAÇÃO</td>\n",
       "      <td>27</td>\n",
       "    </tr>\n",
       "    <tr>\n",
       "      <th>1108</th>\n",
       "      <td>GOVERNADOR JOSÉ RICHA</td>\n",
       "      <td>GOVERNADOR JOSÉ RICHA</td>\n",
       "      <td>26</td>\n",
       "    </tr>\n",
       "    <tr>\n",
       "      <th>258</th>\n",
       "      <td>BACACHERI</td>\n",
       "      <td>BACACHERI</td>\n",
       "      <td>25</td>\n",
       "    </tr>\n",
       "    <tr>\n",
       "      <th>504</th>\n",
       "      <td>CARLOS PRATES</td>\n",
       "      <td>CARLOS PRATES</td>\n",
       "      <td>20</td>\n",
       "    </tr>\n",
       "    <tr>\n",
       "      <th>1579</th>\n",
       "      <td>PISTA DE POUSO EVENTUAL</td>\n",
       "      <td>PISTA DE POUSO EVENTUAL</td>\n",
       "      <td>20</td>\n",
       "    </tr>\n",
       "    <tr>\n",
       "      <th>467</th>\n",
       "      <td>CARLOS DRUMMOND DE ANDRADE / PAMPULHA</td>\n",
       "      <td>CARLOS DRUMMOND DE ANDRADE / PAMPULHA</td>\n",
       "      <td>15</td>\n",
       "    </tr>\n",
       "    <tr>\n",
       "      <th>1238</th>\n",
       "      <td>JACAREPAGUÁ</td>\n",
       "      <td>JACAREPAGUÁ</td>\n",
       "      <td>14</td>\n",
       "    </tr>\n",
       "    <tr>\n",
       "      <th>1707</th>\n",
       "      <td>PROFESSOR URBANO ERNESTO STUMPF</td>\n",
       "      <td>PROFESSOR URBANO ERNESTO STUMPF</td>\n",
       "      <td>13</td>\n",
       "    </tr>\n",
       "    <tr>\n",
       "      <th>1849</th>\n",
       "      <td>SANTOS DUMONT</td>\n",
       "      <td>CONGONHAS</td>\n",
       "      <td>13</td>\n",
       "    </tr>\n",
       "    <tr>\n",
       "      <th>1945</th>\n",
       "      <td>SÍLVIO NAME JÚNIOR</td>\n",
       "      <td>SÍLVIO NAME JÚNIOR</td>\n",
       "      <td>13</td>\n",
       "    </tr>\n",
       "    <tr>\n",
       "      <th>1184</th>\n",
       "      <td>HERCÍLIO LUZ</td>\n",
       "      <td>HERCÍLIO LUZ</td>\n",
       "      <td>12</td>\n",
       "    </tr>\n",
       "    <tr>\n",
       "      <th>1509</th>\n",
       "      <td>PARÁ DE MINAS</td>\n",
       "      <td>PARÁ DE MINAS</td>\n",
       "      <td>11</td>\n",
       "    </tr>\n",
       "    <tr>\n",
       "      <th>609</th>\n",
       "      <td>CONGONHAS</td>\n",
       "      <td>SANTOS DUMONT</td>\n",
       "      <td>11</td>\n",
       "    </tr>\n",
       "    <tr>\n",
       "      <th>1759</th>\n",
       "      <td>SALGADO FILHO</td>\n",
       "      <td>GOVERNADOR ANDRÉ FRANCO MONTORO</td>\n",
       "      <td>10</td>\n",
       "    </tr>\n",
       "    <tr>\n",
       "      <th>1645</th>\n",
       "      <td>PRESIDENTE JUSCELINO KUBITSCHEK</td>\n",
       "      <td>CONGONHAS</td>\n",
       "      <td>9</td>\n",
       "    </tr>\n",
       "  </tbody>\n",
       "</table>\n",
       "</div>"
      ],
      "text/plain": [
       "                        aeronave_voo_origem  \\\n",
       "947                       FORA DE AERODROMO   \n",
       "0                                       ***   \n",
       "397                          CAMPO DE MARTE   \n",
       "107           AEROPORTO ESTADUAL DE JUNDIAÍ   \n",
       "744                ESTADUAL ARTHUR SIQUEIRA   \n",
       "138           AERÓDROMO NACIONAL DE AVIAÇÃO   \n",
       "1108                  GOVERNADOR JOSÉ RICHA   \n",
       "258                               BACACHERI   \n",
       "504                           CARLOS PRATES   \n",
       "1579                PISTA DE POUSO EVENTUAL   \n",
       "467   CARLOS DRUMMOND DE ANDRADE / PAMPULHA   \n",
       "1238                            JACAREPAGUÁ   \n",
       "1707        PROFESSOR URBANO ERNESTO STUMPF   \n",
       "1849                          SANTOS DUMONT   \n",
       "1945                     SÍLVIO NAME JÚNIOR   \n",
       "1184                           HERCÍLIO LUZ   \n",
       "1509                          PARÁ DE MINAS   \n",
       "609                               CONGONHAS   \n",
       "1759                          SALGADO FILHO   \n",
       "1645        PRESIDENTE JUSCELINO KUBITSCHEK   \n",
       "\n",
       "                       aeronave_voo_destino     0  \n",
       "947                       FORA DE AERODROMO  1792  \n",
       "0                                       ***   135  \n",
       "397                          CAMPO DE MARTE    53  \n",
       "107           AEROPORTO ESTADUAL DE JUNDIAÍ    34  \n",
       "744                ESTADUAL ARTHUR SIQUEIRA    30  \n",
       "138           AERÓDROMO NACIONAL DE AVIAÇÃO    27  \n",
       "1108                  GOVERNADOR JOSÉ RICHA    26  \n",
       "258                               BACACHERI    25  \n",
       "504                           CARLOS PRATES    20  \n",
       "1579                PISTA DE POUSO EVENTUAL    20  \n",
       "467   CARLOS DRUMMOND DE ANDRADE / PAMPULHA    15  \n",
       "1238                            JACAREPAGUÁ    14  \n",
       "1707        PROFESSOR URBANO ERNESTO STUMPF    13  \n",
       "1849                              CONGONHAS    13  \n",
       "1945                     SÍLVIO NAME JÚNIOR    13  \n",
       "1184                           HERCÍLIO LUZ    12  \n",
       "1509                          PARÁ DE MINAS    11  \n",
       "609                           SANTOS DUMONT    11  \n",
       "1759        GOVERNADOR ANDRÉ FRANCO MONTORO    10  \n",
       "1645                              CONGONHAS     9  "
      ]
     },
     "execution_count": 203,
     "metadata": {},
     "output_type": "execute_result"
    }
   ],
   "source": [
    "df_aeronaves.groupby(by=[\"aeronave_voo_origem\",\"aeronave_voo_destino\"]).size().reset_index().sort_values(by=0,ascending=False).head(20)"
   ]
  },
  {
   "cell_type": "markdown",
   "id": "fbec41fb",
   "metadata": {},
   "source": [
    "- Em que fase da operacao as ocorrencias sao mais comuns?\n",
    "- Alguma operação tem mais dificuldade em alguma fase específica?\n",
    "- Que tipo de aeronave tem mais acidentes?"
   ]
  },
  {
   "cell_type": "markdown",
   "id": "4e4e334c",
   "metadata": {},
   "source": [
    "Avioes sofreram mais acidentes no período observado, e em geral aeronaves movidas a pistao"
   ]
  },
  {
   "cell_type": "code",
   "execution_count": 204,
   "id": "16f397b6",
   "metadata": {},
   "outputs": [
    {
     "data": {
      "text/plain": [
       "<AxesSubplot:xlabel='aeronave_tipo_veiculo', ylabel='count'>"
      ]
     },
     "execution_count": 204,
     "metadata": {},
     "output_type": "execute_result"
    },
    {
     "data": {
      "image/png": "[encoded data removed]",
      "text/plain": [
       "<Figure size 1080x504 with 1 Axes>"
      ]
     },
     "metadata": {
      "needs_background": "light"
     },
     "output_type": "display_data"
    }
   ],
   "source": [
    "plt.figure(figsize=(15, 7))\n",
    "\n",
    "a = df_aeronaves[['aeronave_tipo_veiculo','aeronave_motor_tipo']]\n",
    "sns.countplot(data = a,x='aeronave_tipo_veiculo',hue = 'aeronave_motor_tipo')"
   ]
  },
  {
   "cell_type": "markdown",
   "id": "01298f5b",
   "metadata": {},
   "source": [
    "10 marcas com mais acidentes associados em modelos movidos a pistao"
   ]
  },
  {
   "cell_type": "code",
   "execution_count": 205,
   "id": "72ed4258",
   "metadata": {},
   "outputs": [
    {
     "data": {
      "text/html": [
       "<div>\n",
       "<style scoped>\n",
       "    .dataframe tbody tr th:only-of-type {\n",
       "        vertical-align: middle;\n",
       "    }\n",
       "\n",
       "    .dataframe tbody tr th {\n",
       "        vertical-align: top;\n",
       "    }\n",
       "\n",
       "    .dataframe thead th {\n",
       "        text-align: right;\n",
       "    }\n",
       "</style>\n",
       "<table border=\"1\" class=\"dataframe\">\n",
       "  <thead>\n",
       "    <tr style=\"text-align: right;\">\n",
       "      <th>aeronave_motor_tipo</th>\n",
       "      <th>***</th>\n",
       "      <th>JATO</th>\n",
       "      <th>PISTÃO</th>\n",
       "      <th>SEM TRAÇÃO</th>\n",
       "      <th>TURBOEIXO</th>\n",
       "      <th>TURBOÉLICE</th>\n",
       "    </tr>\n",
       "    <tr>\n",
       "      <th>aeronave_fabricante</th>\n",
       "      <th></th>\n",
       "      <th></th>\n",
       "      <th></th>\n",
       "      <th></th>\n",
       "      <th></th>\n",
       "      <th></th>\n",
       "    </tr>\n",
       "  </thead>\n",
       "  <tbody>\n",
       "    <tr>\n",
       "      <th>CESSNA AIRCRAFT</th>\n",
       "      <td>10</td>\n",
       "      <td>99</td>\n",
       "      <td>642</td>\n",
       "      <td>0</td>\n",
       "      <td>0</td>\n",
       "      <td>87</td>\n",
       "    </tr>\n",
       "    <tr>\n",
       "      <th>NEIVA INDUSTRIA AERONAUTICA</th>\n",
       "      <td>0</td>\n",
       "      <td>0</td>\n",
       "      <td>583</td>\n",
       "      <td>0</td>\n",
       "      <td>0</td>\n",
       "      <td>0</td>\n",
       "    </tr>\n",
       "    <tr>\n",
       "      <th>PIPER AIRCRAFT</th>\n",
       "      <td>3</td>\n",
       "      <td>0</td>\n",
       "      <td>321</td>\n",
       "      <td>0</td>\n",
       "      <td>0</td>\n",
       "      <td>57</td>\n",
       "    </tr>\n",
       "    <tr>\n",
       "      <th>EMBRAER</th>\n",
       "      <td>6</td>\n",
       "      <td>256</td>\n",
       "      <td>250</td>\n",
       "      <td>0</td>\n",
       "      <td>31</td>\n",
       "      <td>39</td>\n",
       "    </tr>\n",
       "    <tr>\n",
       "      <th>BEECH AIRCRAFT</th>\n",
       "      <td>1</td>\n",
       "      <td>2</td>\n",
       "      <td>199</td>\n",
       "      <td>0</td>\n",
       "      <td>0</td>\n",
       "      <td>52</td>\n",
       "    </tr>\n",
       "  </tbody>\n",
       "</table>\n",
       "</div>"
      ],
      "text/plain": [
       "aeronave_motor_tipo          ***  JATO  PISTÃO  SEM TRAÇÃO  TURBOEIXO  \\\n",
       "aeronave_fabricante                                                     \n",
       "CESSNA AIRCRAFT               10    99     642           0          0   \n",
       "NEIVA INDUSTRIA AERONAUTICA    0     0     583           0          0   \n",
       "PIPER AIRCRAFT                 3     0     321           0          0   \n",
       "EMBRAER                        6   256     250           0         31   \n",
       "BEECH AIRCRAFT                 1     2     199           0          0   \n",
       "\n",
       "aeronave_motor_tipo          TURBOÉLICE  \n",
       "aeronave_fabricante                      \n",
       "CESSNA AIRCRAFT                      87  \n",
       "NEIVA INDUSTRIA AERONAUTICA           0  \n",
       "PIPER AIRCRAFT                       57  \n",
       "EMBRAER                              39  \n",
       "BEECH AIRCRAFT                       52  "
      ]
     },
     "execution_count": 205,
     "metadata": {},
     "output_type": "execute_result"
    }
   ],
   "source": [
    "temp = df_aeronaves[['aeronave_fabricante','aeronave_motor_tipo']]\n",
    "temp = pd.pivot_table(temp, index=\"aeronave_fabricante\",\n",
    "                      columns='aeronave_motor_tipo',\n",
    "                      aggfunc=len, fill_value=0).sort_values(by=\"PISTÃO\",\n",
    "                                                             ascending=False)\n",
    "temp.head()"
   ]
  },
  {
   "cell_type": "markdown",
   "id": "a0b54c56",
   "metadata": {},
   "source": [
    "As fases de maior numero de ocorrencias sao cruzeiro, decolagem e pouso. Isto se comunica diretamente com os 10 tipos ocorrencias mais comuns visualizados em \"df_tipo_ocorrecias\"\n",
    "\n",
    "Abaixo sao relaciodos os momentos em que as ocorrencias aconteceram com o tipo de aeronave. Removi a classe Avião pois esta é majoritaria em todos os momentos e dificultava a leitura do grafico\n",
    "\n",
    "Em geral aeronves compartilham problemas nas mesmas fases. Ainda ssim é possivel notar que helicópteros tem muito mais ocorrencias durante o cruzeiro se comparado a quantidade de ocorrencias nas mesmas fases. Outro ponto visível é que veículos anfpibios tem mais ocorrencias durante o pouso do que planadores."
   ]
  },
  {
   "cell_type": "code",
   "execution_count": 206,
   "id": "f693bb01",
   "metadata": {},
   "outputs": [
    {
     "data": {
      "text/plain": [
       "<AxesSubplot:xlabel='count', ylabel='aeronave_fase_operacao'>"
      ]
     },
     "execution_count": 206,
     "metadata": {},
     "output_type": "execute_result"
    },
    {
     "data": {
      "image/png": "[encoded data removed]",
      "text/plain": [
       "<Figure size 1080x1080 with 1 Axes>"
      ]
     },
     "metadata": {
      "needs_background": "light"
     },
     "output_type": "display_data"
    }
   ],
   "source": [
    "plt.figure(figsize=(15, 15))\n",
    "\n",
    "fase = df_aeronaves[df_aeronaves.aeronave_tipo_veiculo != \"AVIÃO\"].aeronave_fase_operacao.value_counts().index[:10]\n",
    "temp = df_aeronaves[df_aeronaves.aeronave_fase_operacao.isin(fase)]\n",
    "temp = temp[(temp.aeronave_tipo_veiculo != \"AVIÃO\") & (temp.aeronave_tipo_veiculo != \"***\")]\n",
    "\n",
    "sns.countplot(data = temp, y='aeronave_fase_operacao',hue='aeronave_tipo_veiculo')"
   ]
  },
  {
   "cell_type": "markdown",
   "id": "789fb053",
   "metadata": {},
   "source": [
    "Tipos de aviao com maior numero de acidentes"
   ]
  },
  {
   "cell_type": "code",
   "execution_count": 207,
   "id": "f1be74b8",
   "metadata": {},
   "outputs": [
    {
     "data": {
      "text/plain": [
       "<AxesSubplot:>"
      ]
     },
     "execution_count": 207,
     "metadata": {},
     "output_type": "execute_result"
    },
    {
     "data": {
      "image/png": "[encoded data removed]",
      "text/plain": [
       "<Figure size 432x288 with 1 Axes>"
      ]
     },
     "metadata": {
      "needs_background": "light"
     },
     "output_type": "display_data"
    }
   ],
   "source": [
    "df_aeronaves[(df_aeronaves.aeronave_tipo_veiculo == \"AVIÃO\") & (df_aeronaves.aeronave_motor_quantidade != \"***\")].aeronave_motor_quantidade.value_counts().sort_values().plot(kind = 'barh')"
   ]
  },
  {
   "cell_type": "markdown",
   "id": "26cc6e64",
   "metadata": {},
   "source": [
    "Marcas de aviao com maior numero de acidentes"
   ]
  },
  {
   "cell_type": "code",
   "execution_count": 333,
   "id": "f5180ba7",
   "metadata": {},
   "outputs": [
    {
     "data": {
      "text/html": [
       "<div>\n",
       "<style scoped>\n",
       "    .dataframe tbody tr th:only-of-type {\n",
       "        vertical-align: middle;\n",
       "    }\n",
       "\n",
       "    .dataframe tbody tr th {\n",
       "        vertical-align: top;\n",
       "    }\n",
       "\n",
       "    .dataframe thead th {\n",
       "        text-align: right;\n",
       "    }\n",
       "</style>\n",
       "<table border=\"1\" class=\"dataframe\">\n",
       "  <thead>\n",
       "    <tr style=\"text-align: right;\">\n",
       "      <th></th>\n",
       "      <th>quantidade</th>\n",
       "    </tr>\n",
       "  </thead>\n",
       "  <tbody>\n",
       "    <tr>\n",
       "      <th>CESSNA AIRCRAFT</th>\n",
       "      <td>828</td>\n",
       "    </tr>\n",
       "    <tr>\n",
       "      <th>NEIVA INDUSTRIA AERONAUTICA</th>\n",
       "      <td>583</td>\n",
       "    </tr>\n",
       "    <tr>\n",
       "      <th>EMBRAER</th>\n",
       "      <td>582</td>\n",
       "    </tr>\n",
       "    <tr>\n",
       "      <th>PIPER AIRCRAFT</th>\n",
       "      <td>380</td>\n",
       "    </tr>\n",
       "    <tr>\n",
       "      <th>BOEING COMPANY</th>\n",
       "      <td>262</td>\n",
       "    </tr>\n",
       "    <tr>\n",
       "      <th>...</th>\n",
       "      <td>...</td>\n",
       "    </tr>\n",
       "    <tr>\n",
       "      <th>CLAIBER VIEIRA BORGES</th>\n",
       "      <td>1</td>\n",
       "    </tr>\n",
       "    <tr>\n",
       "      <th>ALLIANCE AIRCRAFT</th>\n",
       "      <td>1</td>\n",
       "    </tr>\n",
       "    <tr>\n",
       "      <th>FABRICAÇÃO PRÓPRIA</th>\n",
       "      <td>1</td>\n",
       "    </tr>\n",
       "    <tr>\n",
       "      <th>ROGER AGNELLI</th>\n",
       "      <td>1</td>\n",
       "    </tr>\n",
       "    <tr>\n",
       "      <th>EDRA AERONÁUTICA LTDA</th>\n",
       "      <td>1</td>\n",
       "    </tr>\n",
       "  </tbody>\n",
       "</table>\n",
       "<p>124 rows × 1 columns</p>\n",
       "</div>"
      ],
      "text/plain": [
       "                             quantidade\n",
       "CESSNA AIRCRAFT                     828\n",
       "NEIVA INDUSTRIA AERONAUTICA         583\n",
       "EMBRAER                             582\n",
       "PIPER AIRCRAFT                      380\n",
       "BOEING COMPANY                      262\n",
       "...                                 ...\n",
       "CLAIBER VIEIRA BORGES                 1\n",
       "ALLIANCE AIRCRAFT                     1\n",
       "FABRICAÇÃO PRÓPRIA                    1\n",
       "ROGER AGNELLI                         1\n",
       "EDRA AERONÁUTICA LTDA                 1\n",
       "\n",
       "[124 rows x 1 columns]"
      ]
     },
     "execution_count": 333,
     "metadata": {},
     "output_type": "execute_result"
    }
   ],
   "source": [
    "df_aeronaves[df_aeronaves.aeronave_tipo_veiculo == \"AVIÃO\"].aeronave_fabricante.value_counts().to_frame(name='quantidade')"
   ]
  },
  {
   "cell_type": "code",
   "execution_count": 324,
   "id": "c0ca1e95",
   "metadata": {},
   "outputs": [
    {
     "data": {
      "text/plain": [
       "<AxesSubplot:title={'center':'Top 20 marcas com maior numero de acidentes'}>"
      ]
     },
     "execution_count": 324,
     "metadata": {},
     "output_type": "execute_result"
    },
    {
     "data": {
      "image/png": "[encoded data removed]",
      "text/plain": [
       "<Figure size 432x288 with 1 Axes>"
      ]
     },
     "metadata": {
      "needs_background": "light"
     },
     "output_type": "display_data"
    }
   ],
   "source": [
    "df_aeronaves[df_aeronaves.aeronave_tipo_veiculo == \"AVIÃO\"].aeronave_fabricante.value_counts().head(20).sort_values().plot(kind = 'barh', title = \"Top 20 marcas com maior numero de acidentes\")"
   ]
  },
  {
   "cell_type": "code",
   "execution_count": 209,
   "id": "a7662a81",
   "metadata": {},
   "outputs": [
    {
     "data": {
      "text/plain": [
       "<AxesSubplot:title={'center':'Marcas de aviao que tiveram mais ocorrencias'}, xlabel='count', ylabel='aeronave_fabricante'>"
      ]
     },
     "execution_count": 209,
     "metadata": {},
     "output_type": "execute_result"
    },
    {
     "data": {
      "image/png": "[encoded data removed]",
      "text/plain": [
       "<Figure size 936x504 with 1 Axes>"
      ]
     },
     "metadata": {
      "needs_background": "light"
     },
     "output_type": "display_data"
    }
   ],
   "source": [
    "# como existem muitas classes tanto de marcas quanto de tipo de aeronave optei por focar no tipo mais comum e no top 10\n",
    "plt.figure(figsize=(13, 7))\n",
    "plt.title(\"Marcas de aviao que tiveram mais ocorrencias\")\n",
    "marcas = df_aeronaves[(df_aeronaves.aeronave_tipo_veiculo == \"AVIÃO\")].aeronave_fabricante.value_counts().index[:10]\n",
    "\n",
    "sns.countplot(data = df_aeronaves[(df_aeronaves.aeronave_tipo_veiculo == \"AVIÃO\") &\n",
    "                                  (df_aeronaves.aeronave_motor_quantidade != \"***\") &\n",
    "                                 (df_aeronaves.aeronave_fabricante.isin(marcas))],\n",
    "             y ='aeronave_fabricante', hue='aeronave_motor_quantidade')"
   ]
  },
  {
   "cell_type": "markdown",
   "id": "bb776ffb",
   "metadata": {},
   "source": [
    "Pesquisando um pouco pelas empresas listadas temos:\n",
    "- Aerospatiale and Alenia é uma empresa italiana focada na produção de hélice militares, de patrulha e modelos turboélice Regional.\n",
    "- Neiva, é uma empresa brasileira focada em aviões para agricultura\n",
    "- Embraer é uma empresa brasileira, uma das maiores produtoras de aeronaves do mundo\n",
    "\n",
    "É possivel notar a grande presenca de monomotores nos ocorrencias e algumas marcas mais pontuais como a Embraer tendo mais problemas com Bimotores\n",
    "\n",
    "No geral Cessna, Neiva e Embraer lideram o numero de ocorrencias"
   ]
  },
  {
   "cell_type": "markdown",
   "id": "ef4e674f",
   "metadata": {},
   "source": [
    "Aeronaves mais velhas são mais propensas a se envolver em acidentes?\n",
    "\n",
    "Conferindo a quantidade de ocorrencia por idade de aeronaves é possivel notar que um grande numero de ocorrencias acontece com aeronaves entre 9 e 13 anos"
   ]
  },
  {
   "cell_type": "code",
   "execution_count": 210,
   "id": "16ce7fce",
   "metadata": {},
   "outputs": [
    {
     "data": {
      "text/plain": [
       "<AxesSubplot:title={'center':'Top 20 idade das aeronaves com maior numero de acidentes'}>"
      ]
     },
     "execution_count": 210,
     "metadata": {},
     "output_type": "execute_result"
    },
    {
     "data": {
      "image/png": "[encoded data removed]",
      "text/plain": [
       "<Figure size 1080x504 with 1 Axes>"
      ]
     },
     "metadata": {
      "needs_background": "light"
     },
     "output_type": "display_data"
    }
   ],
   "source": [
    "plt.figure(figsize=(15, 7))\n",
    "\n",
    "df_aeronaves[(df_aeronaves.idade_aeronave >0) &\n",
    "             (df_aeronaves.idade_aeronave < 150)].idade_aeronave.value_counts().head(20).sort_values().plot(kind = 'barh',\n",
    "                                                                                                   title = \"Top 20 idade das aeronaves com maior numero de acidentes\")"
   ]
  },
  {
   "cell_type": "markdown",
   "id": "29adc19e",
   "metadata": {},
   "source": [
    "Aeronaves de 9 anos de idade estao mais envolvidas em ocorrencias do que aeronaves mais velhas, por que?"
   ]
  },
  {
   "cell_type": "markdown",
   "id": "8670265c",
   "metadata": {},
   "source": [
    "Existem um aumento significativo de ocorrencias com modelos de aviao bimotor, fabricados pela AEROSPATIALE AND ALENIA no ano de 2012(atualmente com 9 anos); especialmente durante as fases de cruzeiro e decolagem.\n",
    "\n",
    "Observando notícias da época nao existem indicios de problemas na fabricação de aeronaves bimotores da Aerospatiale ou Embraer.\n",
    "\n",
    "Após a uniao das bases será possivel notar quandos estes eventos ocorreram"
   ]
  },
  {
   "cell_type": "code",
   "execution_count": 211,
   "id": "d8ed5ee9",
   "metadata": {},
   "outputs": [],
   "source": [
    "temp_9_anos= df_aeronaves[(df_aeronaves.idade_aeronave == 9)]\n",
    "temp_10_anos = df_aeronaves[(df_aeronaves.idade_aeronave == 10)]"
   ]
  },
  {
   "cell_type": "code",
   "execution_count": 335,
   "id": "67f29f43",
   "metadata": {},
   "outputs": [
    {
     "name": "stdout",
     "output_type": "stream",
     "text": [
      "aeronaves de 10 anos\n",
      "AVIÃO          167\n",
      "HELICÓPTERO     34\n",
      "ULTRALEVE       27\n",
      "Name: aeronave_tipo_veiculo, dtype: int64\n",
      "aeronaves de 9 anos\n",
      "AVIÃO          202\n",
      "HELICÓPTERO     28\n",
      "ULTRALEVE       18\n",
      "ANFÍBIO          1\n",
      "Name: aeronave_tipo_veiculo, dtype: int64\n"
     ]
    }
   ],
   "source": [
    "# Comparando numeros de ocorrencias para veiculos de 10 e 9 anos por tipo\n",
    "print('aeronaves de 10 anos')\n",
    "print(temp_10_anos.aeronave_tipo_veiculo.value_counts())\n",
    "\n",
    "print('aeronaves de 9 anos')\n",
    "print(temp_9_anos.aeronave_tipo_veiculo.value_counts())\n",
    "# ocorreu um aumento no numero de ocorrencias de avioes"
   ]
  },
  {
   "cell_type": "code",
   "execution_count": 213,
   "id": "3472fb92",
   "metadata": {},
   "outputs": [
    {
     "name": "stdout",
     "output_type": "stream",
     "text": [
      "aeronaves de 10 anos\n",
      "BIMOTOR      130\n",
      "MONOMOTOR     97\n",
      "***            1\n",
      "Name: aeronave_motor_quantidade, dtype: int64\n",
      "aeronaves de 9 anos\n",
      "BIMOTOR      157\n",
      "MONOMOTOR     90\n",
      "***            1\n",
      "TRIMOTOR       1\n",
      "Name: aeronave_motor_quantidade, dtype: int64\n"
     ]
    }
   ],
   "source": [
    "# Comparando numeros de ocorrencias para veiculos de 10 e 9 anos por tipo de motor\n",
    "\n",
    "print('aeronaves de 10 anos')\n",
    "print(temp_10_anos.aeronave_motor_quantidade.value_counts())\n",
    "\n",
    "print('aeronaves de 9 anos')\n",
    "print(temp_9_anos.aeronave_motor_quantidade.value_counts())\n",
    "# ocorreu um aumento no numero de ocorrencias de bimotores"
   ]
  },
  {
   "cell_type": "code",
   "execution_count": 214,
   "id": "8df9518f",
   "metadata": {},
   "outputs": [
    {
     "name": "stdout",
     "output_type": "stream",
     "text": [
      "aeronaves de 10 anos\n",
      "EMBRAER                    75\n",
      "AEROSPATIALE AND ALENIA    23\n",
      "AIRBUS INDUSTRIE           13\n",
      "SIKORSKY AIRCRAFT          10\n",
      "PIPER AIRCRAFT              9\n",
      "Name: aeronave_fabricante, dtype: int64\n",
      "aeronaves de 9 anos\n",
      "EMBRAER                    63\n",
      "AEROSPATIALE AND ALENIA    58\n",
      "BOEING COMPANY             16\n",
      "AIRBUS INDUSTRIE           15\n",
      "ROBINSON HELICOPTER        11\n",
      "Name: aeronave_fabricante, dtype: int64\n"
     ]
    }
   ],
   "source": [
    "# Comparando numeros de ocorrencias para veiculos de 10 e 9 anos por fabricante\n",
    "\n",
    "print('aeronaves de 10 anos')\n",
    "print(temp_10_anos.aeronave_fabricante.value_counts().head(5))\n",
    "print('aeronaves de 9 anos')\n",
    "print(temp_9_anos.aeronave_fabricante.value_counts().head(5))\n",
    "# ocorreu um aumento no numero de ocorrencias de avioes, bimotores produzidos pela AEROSPATIALE AND ALENIA e EMBRAER "
   ]
  },
  {
   "cell_type": "code",
   "execution_count": 215,
   "id": "1a7ddc4c",
   "metadata": {},
   "outputs": [
    {
     "name": "stdout",
     "output_type": "stream",
     "text": [
      "aeronaves de 10 anos\n",
      "DECOLAGEM             44\n",
      "CRUZEIRO              40\n",
      "SUBIDA                28\n",
      "POUSO                 28\n",
      "CORRIDA APÓS POUSO    22\n",
      "Name: aeronave_fase_operacao, dtype: int64\n",
      "aeronaves de 9 anos\n",
      "CRUZEIRO              57\n",
      "DECOLAGEM             45\n",
      "POUSO                 26\n",
      "SUBIDA                24\n",
      "CORRIDA APÓS POUSO    21\n",
      "Name: aeronave_fase_operacao, dtype: int64\n"
     ]
    }
   ],
   "source": [
    "print('aeronaves de 10 anos')\n",
    "print(temp_10_anos.aeronave_fase_operacao.value_counts().head(5))\n",
    "print('aeronaves de 9 anos')\n",
    "print(temp_9_anos.aeronave_fase_operacao.value_counts().head(5))"
   ]
  },
  {
   "cell_type": "code",
   "execution_count": 216,
   "id": "62073724",
   "metadata": {},
   "outputs": [],
   "source": [
    "df_aeronaves = df_aeronaves[['codigo_ocorrencia2',\"aeronave_tipo_veiculo\",'aeronave_fase_operacao','aeronave_fabricante','aeronave_ano_fabricacao','aeronave_tipo_operacao','aeronave_nivel_dano','idade_aeronave' ]]"
   ]
  },
  {
   "cell_type": "markdown",
   "id": "953b431c",
   "metadata": {},
   "source": [
    "#### df_ocorrecias"
   ]
  },
  {
   "cell_type": "markdown",
   "id": "7a8ed694",
   "metadata": {},
   "source": [
    "Ocorrencias sao mais relacionadas a um resumo do evento: oferecendo dados sobre onde; quando; gravidade do evento e o que foi feito\n",
    "- desta forma escolhi premissas relativas a, onde, quando e tipo do evento"
   ]
  },
  {
   "cell_type": "code",
   "execution_count": 217,
   "id": "a35c2b67",
   "metadata": {},
   "outputs": [
    {
     "data": {
      "text/plain": [
       "codigo_ocorrencia                    0\n",
       "codigo_ocorrencia1                   0\n",
       "codigo_ocorrencia2                   0\n",
       "codigo_ocorrencia3                   0\n",
       "codigo_ocorrencia4                   0\n",
       "ocorrencia_classificacao             0\n",
       "ocorrencia_latitude                975\n",
       "ocorrencia_longitude               975\n",
       "ocorrencia_cidade                    0\n",
       "ocorrencia_uf                        0\n",
       "ocorrencia_pais                      0\n",
       "ocorrencia_aerodromo                 0\n",
       "ocorrencia_dia                       0\n",
       "ocorrencia_hora                      1\n",
       "investigacao_aeronave_liberada     166\n",
       "investigacao_status                257\n",
       "divulgacao_relatorio_numero        384\n",
       "divulgacao_relatorio_publicado       0\n",
       "divulgacao_dia_publicacao         3816\n",
       "total_recomendacoes                  0\n",
       "total_aeronaves_envolvidas           0\n",
       "ocorrencia_saida_pista               0\n",
       "dtype: int64"
      ]
     },
     "execution_count": 217,
     "metadata": {},
     "output_type": "execute_result"
    }
   ],
   "source": [
    "df_ocorrecias.isna().sum()"
   ]
  },
  {
   "cell_type": "code",
   "execution_count": 218,
   "id": "df7ee763",
   "metadata": {},
   "outputs": [],
   "source": [
    "df_ocorrecias['ocorrencia_dia']  = pd.to_datetime(df_ocorrecias['ocorrencia_dia'])\n",
    "df_ocorrecias['ocorrencia_ano'] = pd.to_datetime(df_ocorrecias['ocorrencia_dia']).apply(lambda x: int(x.strftime('%Y')))"
   ]
  },
  {
   "cell_type": "markdown",
   "id": "4b369a77",
   "metadata": {},
   "source": [
    "A maioria das ocorrencias aconteceram no sudeste e sul, que são as regioes mais participantes do pib do país e tambem que contam com maior fluxos de pessoas, são regiões com maior volume de tráfico aéreo. Outro fator importante é que os aeroportos internacionais mais importantes do país estão no sudeste.\n",
    "\n",
    "Vale ressaltar a enorme quantidade de ocorrencias em são paulo, embora um grande volume destes voos nao tenham um aerodromo identificado\n",
    "\n",
    "Outro ponto interessante de observação é que embora 2020 e 2021 tivessem sido anos de reduzido volume de voos comerciais(por causa da pandemia) estes anos tiveram mais ocorrencias de acidentes do que todos os anos anteriores até 2015\n"
   ]
  },
  {
   "cell_type": "code",
   "execution_count": 219,
   "id": "6d07eb93",
   "metadata": {},
   "outputs": [
    {
     "data": {
      "text/plain": [
       "<AxesSubplot:xlabel='ocorrencia_ano', ylabel='count'>"
      ]
     },
     "execution_count": 219,
     "metadata": {},
     "output_type": "execute_result"
    },
    {
     "data": {
      "image/png": "[encoded data removed]",
      "text/plain": [
       "<Figure size 1080x504 with 2 Axes>"
      ]
     },
     "metadata": {
      "needs_background": "light"
     },
     "output_type": "display_data"
    }
   ],
   "source": [
    "plt.figure(figsize=(15, 7))\n",
    "plt.subplot(1, 2, 1)\n",
    "sns.countplot(y=df_ocorrecias['ocorrencia_uf'] )\n",
    "\n",
    "\n",
    "plt.subplot(1, 2, 2) # index 2\n",
    "sns.countplot(x=df_ocorrecias['ocorrencia_ano'])\n"
   ]
  },
  {
   "cell_type": "markdown",
   "id": "24ce710c",
   "metadata": {},
   "source": [
    "Ainda que SP concentre o numero de ocrrencias GO, PR e MT tem um numero relevante de acidentes graves"
   ]
  },
  {
   "cell_type": "code",
   "execution_count": 220,
   "id": "85aa1df4",
   "metadata": {},
   "outputs": [
    {
     "data": {
      "text/html": [
       "<div>\n",
       "<style scoped>\n",
       "    .dataframe tbody tr th:only-of-type {\n",
       "        vertical-align: middle;\n",
       "    }\n",
       "\n",
       "    .dataframe tbody tr th {\n",
       "        vertical-align: top;\n",
       "    }\n",
       "\n",
       "    .dataframe thead th {\n",
       "        text-align: right;\n",
       "    }\n",
       "</style>\n",
       "<table border=\"1\" class=\"dataframe\">\n",
       "  <thead>\n",
       "    <tr style=\"text-align: right;\">\n",
       "      <th>ocorrencia_classificacao</th>\n",
       "      <th>ACIDENTE</th>\n",
       "      <th>INCIDENTE</th>\n",
       "      <th>INCIDENTE GRAVE</th>\n",
       "    </tr>\n",
       "    <tr>\n",
       "      <th>ocorrencia_uf</th>\n",
       "      <th></th>\n",
       "      <th></th>\n",
       "      <th></th>\n",
       "    </tr>\n",
       "  </thead>\n",
       "  <tbody>\n",
       "    <tr>\n",
       "      <th>SP</th>\n",
       "      <td>348</td>\n",
       "      <td>781</td>\n",
       "      <td>132</td>\n",
       "    </tr>\n",
       "    <tr>\n",
       "      <th>MG</th>\n",
       "      <td>141</td>\n",
       "      <td>291</td>\n",
       "      <td>67</td>\n",
       "    </tr>\n",
       "    <tr>\n",
       "      <th>GO</th>\n",
       "      <td>114</td>\n",
       "      <td>88</td>\n",
       "      <td>66</td>\n",
       "    </tr>\n",
       "    <tr>\n",
       "      <th>PR</th>\n",
       "      <td>133</td>\n",
       "      <td>248</td>\n",
       "      <td>50</td>\n",
       "    </tr>\n",
       "    <tr>\n",
       "      <th>MT</th>\n",
       "      <td>157</td>\n",
       "      <td>72</td>\n",
       "      <td>47</td>\n",
       "    </tr>\n",
       "  </tbody>\n",
       "</table>\n",
       "</div>"
      ],
      "text/plain": [
       "ocorrencia_classificacao  ACIDENTE  INCIDENTE  INCIDENTE GRAVE\n",
       "ocorrencia_uf                                                 \n",
       "SP                             348        781              132\n",
       "MG                             141        291               67\n",
       "GO                             114         88               66\n",
       "PR                             133        248               50\n",
       "MT                             157         72               47"
      ]
     },
     "execution_count": 220,
     "metadata": {},
     "output_type": "execute_result"
    }
   ],
   "source": [
    "temp = df_ocorrecias[['ocorrencia_uf','ocorrencia_classificacao']]\n",
    "temp = pd.pivot_table(temp, index=\"ocorrencia_uf\",\n",
    "                      columns='ocorrencia_classificacao',\n",
    "                      aggfunc=len, fill_value=0).sort_values(by=\"INCIDENTE GRAVE\",\n",
    "                                                             ascending=False)\n",
    "temp.head()"
   ]
  },
  {
   "cell_type": "code",
   "execution_count": 221,
   "id": "f8532c5b",
   "metadata": {
    "scrolled": true
   },
   "outputs": [
    {
     "data": {
      "text/plain": [
       "****    332\n",
       "SBGR    125\n",
       "SBMT    121\n",
       "SBKP     97\n",
       "SBJD     74\n",
       "       ... \n",
       "SNBR      1\n",
       "SBPP      1\n",
       "####      1\n",
       "SIQK      1\n",
       "SDUL      1\n",
       "Name: ocorrencia_aerodromo, Length: 91, dtype: int64"
      ]
     },
     "execution_count": 221,
     "metadata": {},
     "output_type": "execute_result"
    }
   ],
   "source": [
    "df_ocorrecias[df_ocorrecias.ocorrencia_uf == \"SP\"].ocorrencia_aerodromo.value_counts()"
   ]
  },
  {
   "cell_type": "code",
   "execution_count": 222,
   "id": "b5540e11",
   "metadata": {},
   "outputs": [
    {
     "data": {
      "text/html": [
       "<div>\n",
       "<style scoped>\n",
       "    .dataframe tbody tr th:only-of-type {\n",
       "        vertical-align: middle;\n",
       "    }\n",
       "\n",
       "    .dataframe tbody tr th {\n",
       "        vertical-align: top;\n",
       "    }\n",
       "\n",
       "    .dataframe thead th {\n",
       "        text-align: right;\n",
       "    }\n",
       "</style>\n",
       "<table border=\"1\" class=\"dataframe\">\n",
       "  <thead>\n",
       "    <tr style=\"text-align: right;\">\n",
       "      <th></th>\n",
       "      <th>codigo_ocorrencia</th>\n",
       "      <th>codigo_ocorrencia1</th>\n",
       "      <th>codigo_ocorrencia2</th>\n",
       "      <th>codigo_ocorrencia3</th>\n",
       "      <th>codigo_ocorrencia4</th>\n",
       "      <th>ocorrencia_classificacao</th>\n",
       "      <th>ocorrencia_latitude</th>\n",
       "      <th>ocorrencia_longitude</th>\n",
       "      <th>ocorrencia_cidade</th>\n",
       "      <th>ocorrencia_uf</th>\n",
       "      <th>...</th>\n",
       "      <th>ocorrencia_hora</th>\n",
       "      <th>investigacao_aeronave_liberada</th>\n",
       "      <th>investigacao_status</th>\n",
       "      <th>divulgacao_relatorio_numero</th>\n",
       "      <th>divulgacao_relatorio_publicado</th>\n",
       "      <th>divulgacao_dia_publicacao</th>\n",
       "      <th>total_recomendacoes</th>\n",
       "      <th>total_aeronaves_envolvidas</th>\n",
       "      <th>ocorrencia_saida_pista</th>\n",
       "      <th>ocorrencia_ano</th>\n",
       "    </tr>\n",
       "  </thead>\n",
       "  <tbody>\n",
       "    <tr>\n",
       "      <th>0</th>\n",
       "      <td>52242</td>\n",
       "      <td>52242</td>\n",
       "      <td>52242</td>\n",
       "      <td>52242</td>\n",
       "      <td>52242</td>\n",
       "      <td>INCIDENTE</td>\n",
       "      <td>NaN</td>\n",
       "      <td>NaN</td>\n",
       "      <td>PORTO ALEGRE</td>\n",
       "      <td>RS</td>\n",
       "      <td>...</td>\n",
       "      <td>20:27:00</td>\n",
       "      <td>***</td>\n",
       "      <td>FINALIZADA</td>\n",
       "      <td>***</td>\n",
       "      <td>NÃO</td>\n",
       "      <td>NaN</td>\n",
       "      <td>0</td>\n",
       "      <td>1</td>\n",
       "      <td>NÃO</td>\n",
       "      <td>2012</td>\n",
       "    </tr>\n",
       "    <tr>\n",
       "      <th>1</th>\n",
       "      <td>45331</td>\n",
       "      <td>45331</td>\n",
       "      <td>45331</td>\n",
       "      <td>45331</td>\n",
       "      <td>45331</td>\n",
       "      <td>ACIDENTE</td>\n",
       "      <td>-23.4355555556</td>\n",
       "      <td>-46.4730555556</td>\n",
       "      <td>GUARULHOS</td>\n",
       "      <td>SP</td>\n",
       "      <td>...</td>\n",
       "      <td>13:44:00</td>\n",
       "      <td>SIM</td>\n",
       "      <td>FINALIZADA</td>\n",
       "      <td>A-582/CENIPA/2014</td>\n",
       "      <td>SIM</td>\n",
       "      <td>2016-09-01</td>\n",
       "      <td>3</td>\n",
       "      <td>1</td>\n",
       "      <td>NÃO</td>\n",
       "      <td>2012</td>\n",
       "    </tr>\n",
       "    <tr>\n",
       "      <th>2</th>\n",
       "      <td>45333</td>\n",
       "      <td>45333</td>\n",
       "      <td>45333</td>\n",
       "      <td>45333</td>\n",
       "      <td>45333</td>\n",
       "      <td>ACIDENTE</td>\n",
       "      <td>***</td>\n",
       "      <td>***</td>\n",
       "      <td>VIAMÃO</td>\n",
       "      <td>RS</td>\n",
       "      <td>...</td>\n",
       "      <td>13:00:00</td>\n",
       "      <td>NaN</td>\n",
       "      <td>FINALIZADA</td>\n",
       "      <td>A-070/CENIPA/2013</td>\n",
       "      <td>SIM</td>\n",
       "      <td>2013-11-27</td>\n",
       "      <td>0</td>\n",
       "      <td>1</td>\n",
       "      <td>NÃO</td>\n",
       "      <td>2012</td>\n",
       "    </tr>\n",
       "    <tr>\n",
       "      <th>3</th>\n",
       "      <td>45401</td>\n",
       "      <td>45401</td>\n",
       "      <td>45401</td>\n",
       "      <td>45401</td>\n",
       "      <td>45401</td>\n",
       "      <td>ACIDENTE</td>\n",
       "      <td>***</td>\n",
       "      <td>***</td>\n",
       "      <td>SÃO SEBASTIÃO</td>\n",
       "      <td>SP</td>\n",
       "      <td>...</td>\n",
       "      <td>17:00:00</td>\n",
       "      <td>***</td>\n",
       "      <td>NaN</td>\n",
       "      <td>NaN</td>\n",
       "      <td>NÃO</td>\n",
       "      <td>NaN</td>\n",
       "      <td>0</td>\n",
       "      <td>1</td>\n",
       "      <td>NÃO</td>\n",
       "      <td>2012</td>\n",
       "    </tr>\n",
       "    <tr>\n",
       "      <th>4</th>\n",
       "      <td>45407</td>\n",
       "      <td>45407</td>\n",
       "      <td>45407</td>\n",
       "      <td>45407</td>\n",
       "      <td>45407</td>\n",
       "      <td>ACIDENTE</td>\n",
       "      <td>***</td>\n",
       "      <td>***</td>\n",
       "      <td>SÃO SEPÉ</td>\n",
       "      <td>RS</td>\n",
       "      <td>...</td>\n",
       "      <td>16:30:00</td>\n",
       "      <td>SIM</td>\n",
       "      <td>FINALIZADA</td>\n",
       "      <td>A-071/CENIPA/2013</td>\n",
       "      <td>SIM</td>\n",
       "      <td>2013-11-27</td>\n",
       "      <td>0</td>\n",
       "      <td>1</td>\n",
       "      <td>NÃO</td>\n",
       "      <td>2012</td>\n",
       "    </tr>\n",
       "  </tbody>\n",
       "</table>\n",
       "<p>5 rows × 23 columns</p>\n",
       "</div>"
      ],
      "text/plain": [
       "   codigo_ocorrencia  codigo_ocorrencia1  codigo_ocorrencia2  \\\n",
       "0              52242               52242               52242   \n",
       "1              45331               45331               45331   \n",
       "2              45333               45333               45333   \n",
       "3              45401               45401               45401   \n",
       "4              45407               45407               45407   \n",
       "\n",
       "   codigo_ocorrencia3  codigo_ocorrencia4 ocorrencia_classificacao  \\\n",
       "0               52242               52242                INCIDENTE   \n",
       "1               45331               45331                 ACIDENTE   \n",
       "2               45333               45333                 ACIDENTE   \n",
       "3               45401               45401                 ACIDENTE   \n",
       "4               45407               45407                 ACIDENTE   \n",
       "\n",
       "  ocorrencia_latitude ocorrencia_longitude ocorrencia_cidade ocorrencia_uf  \\\n",
       "0                 NaN                  NaN      PORTO ALEGRE            RS   \n",
       "1      -23.4355555556       -46.4730555556         GUARULHOS            SP   \n",
       "2                 ***                  ***            VIAMÃO            RS   \n",
       "3                 ***                  ***     SÃO SEBASTIÃO            SP   \n",
       "4                 ***                  ***          SÃO SEPÉ            RS   \n",
       "\n",
       "   ... ocorrencia_hora investigacao_aeronave_liberada investigacao_status  \\\n",
       "0  ...        20:27:00                            ***          FINALIZADA   \n",
       "1  ...        13:44:00                            SIM          FINALIZADA   \n",
       "2  ...        13:00:00                            NaN          FINALIZADA   \n",
       "3  ...        17:00:00                            ***                 NaN   \n",
       "4  ...        16:30:00                            SIM          FINALIZADA   \n",
       "\n",
       "  divulgacao_relatorio_numero divulgacao_relatorio_publicado  \\\n",
       "0                         ***                            NÃO   \n",
       "1           A-582/CENIPA/2014                            SIM   \n",
       "2           A-070/CENIPA/2013                            SIM   \n",
       "3                         NaN                            NÃO   \n",
       "4           A-071/CENIPA/2013                            SIM   \n",
       "\n",
       "  divulgacao_dia_publicacao total_recomendacoes total_aeronaves_envolvidas  \\\n",
       "0                       NaN                   0                          1   \n",
       "1                2016-09-01                   3                          1   \n",
       "2                2013-11-27                   0                          1   \n",
       "3                       NaN                   0                          1   \n",
       "4                2013-11-27                   0                          1   \n",
       "\n",
       "  ocorrencia_saida_pista  ocorrencia_ano  \n",
       "0                    NÃO            2012  \n",
       "1                    NÃO            2012  \n",
       "2                    NÃO            2012  \n",
       "3                    NÃO            2012  \n",
       "4                    NÃO            2012  \n",
       "\n",
       "[5 rows x 23 columns]"
      ]
     },
     "execution_count": 222,
     "metadata": {},
     "output_type": "execute_result"
    }
   ],
   "source": [
    "df_ocorrecias.head()"
   ]
  },
  {
   "cell_type": "code",
   "execution_count": 223,
   "id": "cb26daf8",
   "metadata": {},
   "outputs": [],
   "source": [
    "# selecionando colunas para manter\n",
    "df_ocorrecias = df_ocorrecias[[\"codigo_ocorrencia\",\n",
    "                                \"codigo_ocorrencia1\",\n",
    "                                \"codigo_ocorrencia2\",\n",
    "                                \"codigo_ocorrencia3\",\n",
    "                                \"codigo_ocorrencia4\",\n",
    "                                \"ocorrencia_dia\",\n",
    "                                \"ocorrencia_uf\",\n",
    "                               \"ocorrencia_cidade\",\n",
    "                                \"ocorrencia_aerodromo\",\n",
    "                                \"ocorrencia_classificacao\"]]"
   ]
  },
  {
   "cell_type": "markdown",
   "id": "77efc9e3",
   "metadata": {},
   "source": [
    "### Unindo as bases"
   ]
  },
  {
   "cell_type": "code",
   "execution_count": 224,
   "id": "2451920d",
   "metadata": {},
   "outputs": [
    {
     "data": {
      "text/html": [
       "<div>\n",
       "<style scoped>\n",
       "    .dataframe tbody tr th:only-of-type {\n",
       "        vertical-align: middle;\n",
       "    }\n",
       "\n",
       "    .dataframe tbody tr th {\n",
       "        vertical-align: top;\n",
       "    }\n",
       "\n",
       "    .dataframe thead th {\n",
       "        text-align: right;\n",
       "    }\n",
       "</style>\n",
       "<table border=\"1\" class=\"dataframe\">\n",
       "  <thead>\n",
       "    <tr style=\"text-align: right;\">\n",
       "      <th></th>\n",
       "      <th>codigo_ocorrencia</th>\n",
       "      <th>ocorrencia_dia</th>\n",
       "      <th>ocorrencia_uf</th>\n",
       "      <th>ocorrencia_cidade</th>\n",
       "      <th>ocorrencia_aerodromo</th>\n",
       "      <th>ocorrencia_classificacao</th>\n",
       "      <th>ocorrencia_tipo</th>\n",
       "      <th>fator_nome</th>\n",
       "      <th>fator_aspecto</th>\n",
       "      <th>fator_condicionante</th>\n",
       "      <th>fator_area</th>\n",
       "      <th>aeronave_tipo_veiculo</th>\n",
       "      <th>aeronave_fase_operacao</th>\n",
       "      <th>aeronave_fabricante</th>\n",
       "      <th>aeronave_ano_fabricacao</th>\n",
       "      <th>aeronave_tipo_operacao</th>\n",
       "      <th>aeronave_nivel_dano</th>\n",
       "      <th>idade_aeronave</th>\n",
       "    </tr>\n",
       "  </thead>\n",
       "  <tbody>\n",
       "    <tr>\n",
       "      <th>0</th>\n",
       "      <td>52242</td>\n",
       "      <td>2012-05-01</td>\n",
       "      <td>RS</td>\n",
       "      <td>PORTO ALEGRE</td>\n",
       "      <td>SBPA</td>\n",
       "      <td>INCIDENTE</td>\n",
       "      <td>ESTOURO DE PNEU</td>\n",
       "      <td>NaN</td>\n",
       "      <td>NaN</td>\n",
       "      <td>NaN</td>\n",
       "      <td>NaN</td>\n",
       "      <td>AVIÃO</td>\n",
       "      <td>POUSO</td>\n",
       "      <td>RAYTHEON AIRCRAFT</td>\n",
       "      <td>2003.0</td>\n",
       "      <td>PRIVADA</td>\n",
       "      <td>LEVE</td>\n",
       "      <td>18.0</td>\n",
       "    </tr>\n",
       "    <tr>\n",
       "      <th>1</th>\n",
       "      <td>45331</td>\n",
       "      <td>2012-06-01</td>\n",
       "      <td>SP</td>\n",
       "      <td>GUARULHOS</td>\n",
       "      <td>SBGR</td>\n",
       "      <td>ACIDENTE</td>\n",
       "      <td>COM PESSOAL EM VOO</td>\n",
       "      <td>APLICAÇÃO DE COMANDOS</td>\n",
       "      <td>DESEMPENHO DO SER HUMANO</td>\n",
       "      <td>OPERAÇÃO DA AERONAVE</td>\n",
       "      <td>FATOR OPERACIONAL</td>\n",
       "      <td>AVIÃO</td>\n",
       "      <td>DESCIDA</td>\n",
       "      <td>AEROSPATIALE AND ALENIA</td>\n",
       "      <td>2001.0</td>\n",
       "      <td>REGULAR</td>\n",
       "      <td>NENHUM</td>\n",
       "      <td>20.0</td>\n",
       "    </tr>\n",
       "    <tr>\n",
       "      <th>2</th>\n",
       "      <td>45331</td>\n",
       "      <td>2012-06-01</td>\n",
       "      <td>SP</td>\n",
       "      <td>GUARULHOS</td>\n",
       "      <td>SBGR</td>\n",
       "      <td>ACIDENTE</td>\n",
       "      <td>COM PESSOAL EM VOO</td>\n",
       "      <td>ATENÇÃO</td>\n",
       "      <td>ASPECTO PSICOLÓGICO</td>\n",
       "      <td>INDIVIDUAL</td>\n",
       "      <td>FATOR HUMANO</td>\n",
       "      <td>AVIÃO</td>\n",
       "      <td>DESCIDA</td>\n",
       "      <td>AEROSPATIALE AND ALENIA</td>\n",
       "      <td>2001.0</td>\n",
       "      <td>REGULAR</td>\n",
       "      <td>NENHUM</td>\n",
       "      <td>20.0</td>\n",
       "    </tr>\n",
       "    <tr>\n",
       "      <th>3</th>\n",
       "      <td>45331</td>\n",
       "      <td>2012-06-01</td>\n",
       "      <td>SP</td>\n",
       "      <td>GUARULHOS</td>\n",
       "      <td>SBGR</td>\n",
       "      <td>ACIDENTE</td>\n",
       "      <td>COM PESSOAL EM VOO</td>\n",
       "      <td>CAPACITAÇÃO E TREINAMENTO</td>\n",
       "      <td>ASPECTO PSICOLÓGICO</td>\n",
       "      <td>ORGANIZACIONAL</td>\n",
       "      <td>FATOR HUMANO</td>\n",
       "      <td>AVIÃO</td>\n",
       "      <td>DESCIDA</td>\n",
       "      <td>AEROSPATIALE AND ALENIA</td>\n",
       "      <td>2001.0</td>\n",
       "      <td>REGULAR</td>\n",
       "      <td>NENHUM</td>\n",
       "      <td>20.0</td>\n",
       "    </tr>\n",
       "    <tr>\n",
       "      <th>4</th>\n",
       "      <td>45331</td>\n",
       "      <td>2012-06-01</td>\n",
       "      <td>SP</td>\n",
       "      <td>GUARULHOS</td>\n",
       "      <td>SBGR</td>\n",
       "      <td>ACIDENTE</td>\n",
       "      <td>COM PESSOAL EM VOO</td>\n",
       "      <td>CLIMA ORGANIZACIONAL</td>\n",
       "      <td>ASPECTO PSICOLÓGICO</td>\n",
       "      <td>ORGANIZACIONAL</td>\n",
       "      <td>FATOR HUMANO</td>\n",
       "      <td>AVIÃO</td>\n",
       "      <td>DESCIDA</td>\n",
       "      <td>AEROSPATIALE AND ALENIA</td>\n",
       "      <td>2001.0</td>\n",
       "      <td>REGULAR</td>\n",
       "      <td>NENHUM</td>\n",
       "      <td>20.0</td>\n",
       "    </tr>\n",
       "  </tbody>\n",
       "</table>\n",
       "</div>"
      ],
      "text/plain": [
       "   codigo_ocorrencia ocorrencia_dia ocorrencia_uf ocorrencia_cidade  \\\n",
       "0              52242     2012-05-01            RS      PORTO ALEGRE   \n",
       "1              45331     2012-06-01            SP         GUARULHOS   \n",
       "2              45331     2012-06-01            SP         GUARULHOS   \n",
       "3              45331     2012-06-01            SP         GUARULHOS   \n",
       "4              45331     2012-06-01            SP         GUARULHOS   \n",
       "\n",
       "  ocorrencia_aerodromo ocorrencia_classificacao     ocorrencia_tipo  \\\n",
       "0                 SBPA                INCIDENTE     ESTOURO DE PNEU   \n",
       "1                 SBGR                 ACIDENTE  COM PESSOAL EM VOO   \n",
       "2                 SBGR                 ACIDENTE  COM PESSOAL EM VOO   \n",
       "3                 SBGR                 ACIDENTE  COM PESSOAL EM VOO   \n",
       "4                 SBGR                 ACIDENTE  COM PESSOAL EM VOO   \n",
       "\n",
       "                  fator_nome             fator_aspecto   fator_condicionante  \\\n",
       "0                        NaN                       NaN                   NaN   \n",
       "1      APLICAÇÃO DE COMANDOS  DESEMPENHO DO SER HUMANO  OPERAÇÃO DA AERONAVE   \n",
       "2                    ATENÇÃO       ASPECTO PSICOLÓGICO            INDIVIDUAL   \n",
       "3  CAPACITAÇÃO E TREINAMENTO       ASPECTO PSICOLÓGICO        ORGANIZACIONAL   \n",
       "4       CLIMA ORGANIZACIONAL       ASPECTO PSICOLÓGICO        ORGANIZACIONAL   \n",
       "\n",
       "          fator_area aeronave_tipo_veiculo aeronave_fase_operacao  \\\n",
       "0                NaN                 AVIÃO                  POUSO   \n",
       "1  FATOR OPERACIONAL                 AVIÃO                DESCIDA   \n",
       "2       FATOR HUMANO                 AVIÃO                DESCIDA   \n",
       "3       FATOR HUMANO                 AVIÃO                DESCIDA   \n",
       "4       FATOR HUMANO                 AVIÃO                DESCIDA   \n",
       "\n",
       "       aeronave_fabricante  aeronave_ano_fabricacao aeronave_tipo_operacao  \\\n",
       "0        RAYTHEON AIRCRAFT                   2003.0                PRIVADA   \n",
       "1  AEROSPATIALE AND ALENIA                   2001.0                REGULAR   \n",
       "2  AEROSPATIALE AND ALENIA                   2001.0                REGULAR   \n",
       "3  AEROSPATIALE AND ALENIA                   2001.0                REGULAR   \n",
       "4  AEROSPATIALE AND ALENIA                   2001.0                REGULAR   \n",
       "\n",
       "  aeronave_nivel_dano  idade_aeronave  \n",
       "0                LEVE            18.0  \n",
       "1              NENHUM            20.0  \n",
       "2              NENHUM            20.0  \n",
       "3              NENHUM            20.0  \n",
       "4              NENHUM            20.0  "
      ]
     },
     "execution_count": 224,
     "metadata": {},
     "output_type": "execute_result"
    }
   ],
   "source": [
    "# o modelo de dados especifica como unir as tabelas\n",
    "df_ocrrencia_aeronautica = pd.merge(df_ocorrecias, df_tipo_ocorrecias, how='left',left_on=['codigo_ocorrencia1'],right_on=['codigo_ocorrencia1']) \n",
    "df_ocrrencia_aeronautica = pd.merge(df_ocrrencia_aeronautica, df_fator_contribuinte, how='left',left_on=['codigo_ocorrencia3'],right_on=['codigo_ocorrencia3']) \n",
    "df_ocrrencia_aeronautica = pd.merge(df_ocrrencia_aeronautica, df_aeronaves, how='left',left_on=['codigo_ocorrencia2'],right_on=['codigo_ocorrencia2']) \n",
    "df_ocrrencia_aeronautica.drop(labels=['codigo_ocorrencia1', 'codigo_ocorrencia2', 'codigo_ocorrencia3', 'codigo_ocorrencia4'] ,axis=1 ,inplace=True)\n",
    "df_ocrrencia_aeronautica.head()"
   ]
  },
  {
   "cell_type": "code",
   "execution_count": 225,
   "id": "d64ebf47",
   "metadata": {},
   "outputs": [
    {
     "data": {
      "text/plain": [
       "codigo_ocorrencia                    int64\n",
       "ocorrencia_dia              datetime64[ns]\n",
       "ocorrencia_uf                       object\n",
       "ocorrencia_cidade                   object\n",
       "ocorrencia_aerodromo                object\n",
       "ocorrencia_classificacao            object\n",
       "ocorrencia_tipo                     object\n",
       "fator_nome                          object\n",
       "fator_aspecto                       object\n",
       "fator_condicionante                 object\n",
       "fator_area                          object\n",
       "aeronave_tipo_veiculo               object\n",
       "aeronave_fase_operacao              object\n",
       "aeronave_fabricante                 object\n",
       "aeronave_ano_fabricacao            float64\n",
       "aeronave_tipo_operacao              object\n",
       "aeronave_nivel_dano                 object\n",
       "idade_aeronave                     float64\n",
       "dtype: object"
      ]
     },
     "execution_count": 225,
     "metadata": {},
     "output_type": "execute_result"
    }
   ],
   "source": [
    "df_ocrrencia_aeronautica.dtypes"
   ]
  },
  {
   "cell_type": "markdown",
   "id": "2ddbaa85",
   "metadata": {},
   "source": [
    "Na tabela resultante faltam muitos dados relativos aos fatores contribuintes dos eventos, o que era de se esperar considerando que a tabela original contava apenas com 3464 linhas. Esta ausencia de dados pode dificultar o entendimento de algumas ocorrencias serem ou nao influenciadas por fatores humanos."
   ]
  },
  {
   "cell_type": "code",
   "execution_count": 226,
   "id": "37890bf4",
   "metadata": {},
   "outputs": [
    {
     "data": {
      "text/plain": [
       "codigo_ocorrencia              0\n",
       "ocorrencia_dia                 0\n",
       "ocorrencia_uf                  0\n",
       "ocorrencia_cidade              0\n",
       "ocorrencia_aerodromo           0\n",
       "ocorrencia_classificacao       0\n",
       "ocorrencia_tipo                1\n",
       "fator_nome                  4405\n",
       "fator_aspecto               4405\n",
       "fator_condicionante         4405\n",
       "fator_area                  4405\n",
       "aeronave_tipo_veiculo          0\n",
       "aeronave_fase_operacao         0\n",
       "aeronave_fabricante            0\n",
       "aeronave_ano_fabricacao      240\n",
       "aeronave_tipo_operacao         0\n",
       "aeronave_nivel_dano            0\n",
       "idade_aeronave               240\n",
       "dtype: int64"
      ]
     },
     "execution_count": 226,
     "metadata": {},
     "output_type": "execute_result"
    }
   ],
   "source": [
    "df_ocrrencia_aeronautica.isna().sum()"
   ]
  },
  {
   "cell_type": "markdown",
   "id": "ec4ce032",
   "metadata": {},
   "source": [
    "Agora que as bases foram reunidas é possivel responder perguntas feitas anteriormente:\n",
    "- Sera que existem fatores contribuintes nao associados a falhas mecanicas?\n",
    "- Quando os eventos de aeronaves de 9 anos(pico de ocorrencias) aconteceram?"
   ]
  },
  {
   "cell_type": "markdown",
   "id": "b2d2d499",
   "metadata": {},
   "source": [
    "Trabalhando inicialmente com fatores contribuintes vamos ver quais acidentes possuem fatores associados e tentar entende-los"
   ]
  },
  {
   "cell_type": "code",
   "execution_count": 239,
   "id": "280c55dc",
   "metadata": {},
   "outputs": [],
   "source": [
    "df_fatores_associados = df_ocrrencia_aeronautica[df_ocrrencia_aeronautica.fator_area.notnull()]"
   ]
  },
  {
   "cell_type": "code",
   "execution_count": 243,
   "id": "5888ba42",
   "metadata": {},
   "outputs": [
    {
     "data": {
      "text/html": [
       "<div>\n",
       "<style scoped>\n",
       "    .dataframe tbody tr th:only-of-type {\n",
       "        vertical-align: middle;\n",
       "    }\n",
       "\n",
       "    .dataframe tbody tr th {\n",
       "        vertical-align: top;\n",
       "    }\n",
       "\n",
       "    .dataframe thead th {\n",
       "        text-align: right;\n",
       "    }\n",
       "</style>\n",
       "<table border=\"1\" class=\"dataframe\">\n",
       "  <thead>\n",
       "    <tr style=\"text-align: right;\">\n",
       "      <th></th>\n",
       "      <th></th>\n",
       "      <th></th>\n",
       "      <th></th>\n",
       "      <th>quantidade</th>\n",
       "    </tr>\n",
       "    <tr>\n",
       "      <th>ocorrencia_tipo</th>\n",
       "      <th>fator_area</th>\n",
       "      <th>fator_aspecto</th>\n",
       "      <th>fator_condicionante</th>\n",
       "      <th></th>\n",
       "    </tr>\n",
       "  </thead>\n",
       "  <tbody>\n",
       "    <tr>\n",
       "      <th>PERDA DE CONTROLE NO SOLO</th>\n",
       "      <th>FATOR OPERACIONAL</th>\n",
       "      <th>DESEMPENHO DO SER HUMANO</th>\n",
       "      <th>OPERAÇÃO DA AERONAVE</th>\n",
       "      <td>388</td>\n",
       "    </tr>\n",
       "    <tr>\n",
       "      <th>PERDA DE CONTROLE EM VOO</th>\n",
       "      <th>FATOR OPERACIONAL</th>\n",
       "      <th>DESEMPENHO DO SER HUMANO</th>\n",
       "      <th>OPERAÇÃO DA AERONAVE</th>\n",
       "      <td>314</td>\n",
       "    </tr>\n",
       "    <tr>\n",
       "      <th>COLISÃO COM OBSTÁCULO DURANTE A DECOLAGEM E POUSO</th>\n",
       "      <th>FATOR OPERACIONAL</th>\n",
       "      <th>DESEMPENHO DO SER HUMANO</th>\n",
       "      <th>OPERAÇÃO DA AERONAVE</th>\n",
       "      <td>181</td>\n",
       "    </tr>\n",
       "    <tr>\n",
       "      <th>FALHA DO MOTOR EM VOO</th>\n",
       "      <th>FATOR OPERACIONAL</th>\n",
       "      <th>DESEMPENHO DO SER HUMANO</th>\n",
       "      <th>OPERAÇÃO DA AERONAVE</th>\n",
       "      <td>178</td>\n",
       "    </tr>\n",
       "    <tr>\n",
       "      <th>EXCURSÃO DE PISTA</th>\n",
       "      <th>FATOR OPERACIONAL</th>\n",
       "      <th>DESEMPENHO DO SER HUMANO</th>\n",
       "      <th>OPERAÇÃO DA AERONAVE</th>\n",
       "      <td>133</td>\n",
       "    </tr>\n",
       "    <tr>\n",
       "      <th>PERDA DE CONTROLE EM VOO</th>\n",
       "      <th>FATOR HUMANO</th>\n",
       "      <th>ASPECTO PSICOLÓGICO</th>\n",
       "      <th>INDIVIDUAL</th>\n",
       "      <td>117</td>\n",
       "    </tr>\n",
       "    <tr>\n",
       "      <th>FALHA DO MOTOR EM VOO</th>\n",
       "      <th>FATOR OPERACIONAL</th>\n",
       "      <th>DESEMPENHO DO SER HUMANO</th>\n",
       "      <th>MANUTENÇÃO DA AERONAVE</th>\n",
       "      <td>89</td>\n",
       "    </tr>\n",
       "    <tr>\n",
       "      <th>PANE SECA</th>\n",
       "      <th>FATOR OPERACIONAL</th>\n",
       "      <th>DESEMPENHO DO SER HUMANO</th>\n",
       "      <th>OPERAÇÃO DA AERONAVE</th>\n",
       "      <td>84</td>\n",
       "    </tr>\n",
       "    <tr>\n",
       "      <th>OPERAÇÃO A BAIXA ALTITUDE</th>\n",
       "      <th>FATOR OPERACIONAL</th>\n",
       "      <th>DESEMPENHO DO SER HUMANO</th>\n",
       "      <th>OPERAÇÃO DA AERONAVE</th>\n",
       "      <td>73</td>\n",
       "    </tr>\n",
       "    <tr>\n",
       "      <th>COLISÃO COM OBSTÁCULO DURANTE A DECOLAGEM E POUSO</th>\n",
       "      <th>FATOR HUMANO</th>\n",
       "      <th>ASPECTO PSICOLÓGICO</th>\n",
       "      <th>INDIVIDUAL</th>\n",
       "      <td>70</td>\n",
       "    </tr>\n",
       "    <tr>\n",
       "      <th>COM TREM DE POUSO</th>\n",
       "      <th>FATOR OPERACIONAL</th>\n",
       "      <th>DESEMPENHO DO SER HUMANO</th>\n",
       "      <th>OPERAÇÃO DA AERONAVE</th>\n",
       "      <td>60</td>\n",
       "    </tr>\n",
       "    <tr>\n",
       "      <th>PERDA DE CONTROLE NO SOLO</th>\n",
       "      <th>FATOR HUMANO</th>\n",
       "      <th>ASPECTO PSICOLÓGICO</th>\n",
       "      <th>INDIVIDUAL</th>\n",
       "      <td>60</td>\n",
       "    </tr>\n",
       "    <tr>\n",
       "      <th>POUSO LONGO</th>\n",
       "      <th>FATOR OPERACIONAL</th>\n",
       "      <th>DESEMPENHO DO SER HUMANO</th>\n",
       "      <th>OPERAÇÃO DA AERONAVE</th>\n",
       "      <td>54</td>\n",
       "    </tr>\n",
       "    <tr>\n",
       "      <th>FALHA DO MOTOR EM VOO</th>\n",
       "      <th>FATOR HUMANO</th>\n",
       "      <th>ASPECTO PSICOLÓGICO</th>\n",
       "      <th>INDIVIDUAL</th>\n",
       "      <td>51</td>\n",
       "    </tr>\n",
       "    <tr>\n",
       "      <th>PERDA DE CONTROLE EM VOO</th>\n",
       "      <th>FATOR HUMANO</th>\n",
       "      <th>ASPECTO PSICOLÓGICO</th>\n",
       "      <th>ORGANIZACIONAL</th>\n",
       "      <td>49</td>\n",
       "    </tr>\n",
       "  </tbody>\n",
       "</table>\n",
       "</div>"
      ],
      "text/plain": [
       "                                                                                                                     quantidade\n",
       "ocorrencia_tipo                                   fator_area        fator_aspecto            fator_condicionante               \n",
       "PERDA DE CONTROLE NO SOLO                         FATOR OPERACIONAL DESEMPENHO DO SER HUMANO OPERAÇÃO DA AERONAVE           388\n",
       "PERDA DE CONTROLE EM VOO                          FATOR OPERACIONAL DESEMPENHO DO SER HUMANO OPERAÇÃO DA AERONAVE           314\n",
       "COLISÃO COM OBSTÁCULO DURANTE A DECOLAGEM E POUSO FATOR OPERACIONAL DESEMPENHO DO SER HUMANO OPERAÇÃO DA AERONAVE           181\n",
       "FALHA DO MOTOR EM VOO                             FATOR OPERACIONAL DESEMPENHO DO SER HUMANO OPERAÇÃO DA AERONAVE           178\n",
       "EXCURSÃO DE PISTA                                 FATOR OPERACIONAL DESEMPENHO DO SER HUMANO OPERAÇÃO DA AERONAVE           133\n",
       "PERDA DE CONTROLE EM VOO                          FATOR HUMANO      ASPECTO PSICOLÓGICO      INDIVIDUAL                     117\n",
       "FALHA DO MOTOR EM VOO                             FATOR OPERACIONAL DESEMPENHO DO SER HUMANO MANUTENÇÃO DA AERONAVE          89\n",
       "PANE SECA                                         FATOR OPERACIONAL DESEMPENHO DO SER HUMANO OPERAÇÃO DA AERONAVE            84\n",
       "OPERAÇÃO A BAIXA ALTITUDE                         FATOR OPERACIONAL DESEMPENHO DO SER HUMANO OPERAÇÃO DA AERONAVE            73\n",
       "COLISÃO COM OBSTÁCULO DURANTE A DECOLAGEM E POUSO FATOR HUMANO      ASPECTO PSICOLÓGICO      INDIVIDUAL                      70\n",
       "COM TREM DE POUSO                                 FATOR OPERACIONAL DESEMPENHO DO SER HUMANO OPERAÇÃO DA AERONAVE            60\n",
       "PERDA DE CONTROLE NO SOLO                         FATOR HUMANO      ASPECTO PSICOLÓGICO      INDIVIDUAL                      60\n",
       "POUSO LONGO                                       FATOR OPERACIONAL DESEMPENHO DO SER HUMANO OPERAÇÃO DA AERONAVE            54\n",
       "FALHA DO MOTOR EM VOO                             FATOR HUMANO      ASPECTO PSICOLÓGICO      INDIVIDUAL                      51\n",
       "PERDA DE CONTROLE EM VOO                          FATOR HUMANO      ASPECTO PSICOLÓGICO      ORGANIZACIONAL                  49"
      ]
     },
     "execution_count": 243,
     "metadata": {},
     "output_type": "execute_result"
    }
   ],
   "source": [
    "df_fatores_associados.groupby(by = [\"ocorrencia_tipo\", 'fator_area','fator_aspecto','fator_condicionante']).size().sort_values(ascending=False).to_frame(name='quantidade').head(15)"
   ]
  },
  {
   "cell_type": "code",
   "execution_count": 244,
   "id": "327b46db",
   "metadata": {},
   "outputs": [],
   "source": [
    "del(df_fatores_associados)"
   ]
  },
  {
   "cell_type": "markdown",
   "id": "5b1ada9c",
   "metadata": {},
   "source": [
    "Como se pode notar pela tabela acima, dentre as ocorrencias mais comuns poucas esta relacionadas a panes ou falhas de motor. Mas por quais decisoes foram tomadas pelos pilotos. Além disso em sua maioria decisões levaram a acidentes e não falhas nas aeronaves."
   ]
  },
  {
   "cell_type": "markdown",
   "id": "2ac03887",
   "metadata": {},
   "source": [
    "Focando agora em entender ocorrencias com aeronaves de 9 anos"
   ]
  },
  {
   "cell_type": "code",
   "execution_count": 298,
   "id": "2a1ca21a",
   "metadata": {},
   "outputs": [],
   "source": [
    "df_aeronaves_9_anos = df_ocrrencia_aeronautica[df_ocrrencia_aeronautica.idade_aeronave == 9].reset_index(drop=True)\n"
   ]
  },
  {
   "cell_type": "code",
   "execution_count": 299,
   "id": "76a73158",
   "metadata": {},
   "outputs": [
    {
     "data": {
      "text/plain": [
       "0      2012\n",
       "1      2012\n",
       "2      2012\n",
       "3      2012\n",
       "4      2012\n",
       "       ... \n",
       "359    2021\n",
       "360    2021\n",
       "361    2021\n",
       "362    2021\n",
       "363    2021\n",
       "Name: ocorrencia_dia, Length: 364, dtype: int64"
      ]
     },
     "execution_count": 299,
     "metadata": {},
     "output_type": "execute_result"
    }
   ],
   "source": [
    "df_aeronaves_9_anos[\"ocorrencia_dia\"].dt.year"
   ]
  },
  {
   "cell_type": "code",
   "execution_count": 300,
   "id": "cdd6dc36",
   "metadata": {},
   "outputs": [],
   "source": [
    "df_aeronaves_9_anos = df_ocrrencia_aeronautica[df_ocrrencia_aeronautica.idade_aeronave == 9].reset_index(drop=True)\n",
    "df_aeronaves_9_anos['ano'] = df_aeronaves_9_anos[\"ocorrencia_dia\"].dt.year\n",
    "df_aeronaves_9_anos['mes'] = df_aeronaves_9_anos[\"ocorrencia_dia\"].dt.month\n",
    "# pd.DatetimeIndex(df['ArrivalDate']).year"
   ]
  },
  {
   "cell_type": "code",
   "execution_count": 304,
   "id": "1ebf5bc1",
   "metadata": {},
   "outputs": [
    {
     "data": {
      "text/plain": [
       "<AxesSubplot:xlabel='ano', ylabel='count'>"
      ]
     },
     "execution_count": 304,
     "metadata": {},
     "output_type": "execute_result"
    },
    {
     "data": {
      "image/png": "[encoded data removed]",
      "text/plain": [
       "<Figure size 1080x504 with 1 Axes>"
      ]
     },
     "metadata": {
      "needs_background": "light"
     },
     "output_type": "display_data"
    }
   ],
   "source": [
    "plt.figure(figsize=(15, 7))\n",
    "\n",
    "sns.countplot(data =df_aeronaves_9_anos, x ='ano', hue='mes')\n",
    "# sns.countplot(y=df_ocorrecias['ocorrencia_uf'] )\n"
   ]
  },
  {
   "cell_type": "code",
   "execution_count": 331,
   "id": "95905c6f",
   "metadata": {},
   "outputs": [
    {
     "data": {
      "text/plain": [
       "<AxesSubplot:title={'center':'Tipos de acidentes mais comuns para aeronaves de 9 anos'}>"
      ]
     },
     "execution_count": 331,
     "metadata": {},
     "output_type": "execute_result"
    },
    {
     "data": {
      "image/png": "[encoded data removed]",
      "text/plain": [
       "<Figure size 1080x504 with 1 Axes>"
      ]
     },
     "metadata": {
      "needs_background": "light"
     },
     "output_type": "display_data"
    }
   ],
   "source": [
    "plt.figure(figsize=(15, 7))\n",
    "\n",
    "df_aeronaves_9_anos.ocorrencia_tipo.value_counts().head(20).plot(kind = 'barh',title = \"Tipos de acidentes mais comuns para aeronaves de 9 anos\")"
   ]
  },
  {
   "cell_type": "markdown",
   "id": "f1245276",
   "metadata": {},
   "source": [
    "Consolidando o que foi visto durante a exploração da base de aeronaves e agora conseguimos definir o perfil de ocorrencias para aeronaves de 9 anos:\n",
    "- Fabricados em 2012\n",
    "- Avioes,Bimotores\n",
    "- Fabircados pela empresas EMBRAER e AEROSPATIALE AND ALENI\n",
    "- Tiveram picos de ocorrencias no ano de sua produção e nos 2 anos seguintes\n",
    "- A maior causa de acidentes foi mal funcionamento do sistema\n",
    "- Seguidos por perda de controle da aeronave e colisões \n",
    "\n",
    "Perda de controle da aeronave e colisões como vistos na base de fatores associados, estão ligados diretamente a fatores operacionais e dificuldades dos pilotos em controlar a aeronave."
   ]
  },
  {
   "cell_type": "markdown",
   "id": "01cea330",
   "metadata": {},
   "source": [
    "----"
   ]
  },
  {
   "cell_type": "markdown",
   "id": "b5648a6c",
   "metadata": {},
   "source": [
    "Encerro aqui minha etapa de exploração da base, espero ter oferecido uma boa dimensão de quais dados estão disponíveis e o que é possivel descobrir com eles.\n",
    "\n",
    "Um ponto importante é que não ma ative a processos de limpeza de dados, a ideia aqui foi mostrar o que a base \"crua\" poderia informar e deixar esta etapa para outro momento, como durante a preparação dos dados para modelagem."
   ]
  },
  {
   "cell_type": "markdown",
   "id": "40ec93b5",
   "metadata": {},
   "source": [
    "### Próximos passos"
   ]
  },
  {
   "cell_type": "markdown",
   "id": "e4e4fffb",
   "metadata": {},
   "source": [
    "Após a uniao das bases é possivel realizar relacionamentos interessantes como:\n",
    "- a participacao de aspectios psicológicos e operacionais em acidentes graves\n",
    "- relacionamentos entre o tipo de ocorrencia, o fabricante da eronave e o nível de dano\n",
    "- A base viabiliza muitas visualizalções interessantes, que funcionariam melhor em um painel de BI devido a grande quantidade de classes e relacionamentos possíveis\n",
    "- Tambem seria possível cirar um modelo classificatório para tentar prever a classificacao da ocorrencia(INCIDENTE,ACIDENTE OU ACIDENTE GRAVE). Embora esta etapa necessite de maior cuidado pela grande quantidade de premissas categoricas e de categorias. Esta característica adicionaria muita esparsidade nos dados utilizando onehot enconder ou criaria uma relacao ordinal que nao existe na base através do label encode. Desta forma seria necessário um esforço maior para definir que tipo de enconde se adequa a estes dados sem criar problemas  na modelagem.\n"
   ]
  }
 ],
 "metadata": {
  "kernelspec": {
   "display_name": "Python 3 (ipykernel)",
   "language": "python",
   "name": "python3"
  },
  "language_info": {
   "codemirror_mode": {
    "name": "ipython",
    "version": 3
   },
   "file_extension": ".py",
   "mimetype": "text/x-python",
   "name": "python",
   "nbconvert_exporter": "python",
   "pygments_lexer": "ipython3",
   "version": "3.9.7"
  }
 },
 "nbformat": 4,
 "nbformat_minor": 5
}
